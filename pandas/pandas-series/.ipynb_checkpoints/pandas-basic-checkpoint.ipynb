{
 "cells": [
  {
   "cell_type": "code",
   "execution_count": 1,
   "id": "275c1d61-df70-4aa7-bcaf-71a9a5f85546",
   "metadata": {},
   "outputs": [],
   "source": [
    "import pandas as pd\n",
    "import numpy as np"
   ]
  },
  {
   "cell_type": "markdown",
   "id": "f385bad6-05e6-45d6-b457-caecdf50391b",
   "metadata": {},
   "source": [
    "# Basic Series"
   ]
  },
  {
   "cell_type": "code",
   "execution_count": 8,
   "id": "caee869f-fa1a-4fea-a586-5c6d590eb152",
   "metadata": {},
   "outputs": [],
   "source": [
    "array = np.arange(5)\n",
    "series = pd.Series(array)"
   ]
  },
  {
   "cell_type": "code",
   "execution_count": 35,
   "id": "415c2687-b177-4641-a42c-80018005cce9",
   "metadata": {},
   "outputs": [
    {
     "data": {
      "text/plain": [
       "0    0\n",
       "1    1\n",
       "2    2\n",
       "3    3\n",
       "4    4\n",
       "5    5\n",
       "Name: test, dtype: int32"
      ]
     },
     "execution_count": 35,
     "metadata": {},
     "output_type": "execute_result"
    }
   ],
   "source": [
    "pd.Series(np.arange(6), name=\"test\")"
   ]
  },
  {
   "cell_type": "code",
   "execution_count": 23,
   "id": "5b5db02c-28c8-4a5b-be34-a30173d0ee87",
   "metadata": {},
   "outputs": [
    {
     "data": {
      "text/plain": [
       "array([0, 1, 2, 3, 4])"
      ]
     },
     "execution_count": 23,
     "metadata": {},
     "output_type": "execute_result"
    }
   ],
   "source": [
    "series.values"
   ]
  },
  {
   "cell_type": "code",
   "execution_count": 10,
   "id": "dfca943c-1acd-4170-b492-68431b6b06fa",
   "metadata": {},
   "outputs": [
    {
     "data": {
      "text/plain": [
       "2.0"
      ]
     },
     "execution_count": 10,
     "metadata": {},
     "output_type": "execute_result"
    }
   ],
   "source": [
    "series.values.mean()"
   ]
  },
  {
   "cell_type": "code",
   "execution_count": 11,
   "id": "0c47396e-a964-4564-bfc6-74e4f30e9b2f",
   "metadata": {},
   "outputs": [
    {
     "data": {
      "text/plain": [
       "2.0"
      ]
     },
     "execution_count": 11,
     "metadata": {},
     "output_type": "execute_result"
    }
   ],
   "source": [
    "series.mean()"
   ]
  },
  {
   "cell_type": "code",
   "execution_count": 12,
   "id": "0d2410af-08f1-4f49-9787-9c3fb37d8de3",
   "metadata": {},
   "outputs": [
    {
     "data": {
      "text/plain": [
       "RangeIndex(start=0, stop=5, step=1)"
      ]
     },
     "execution_count": 12,
     "metadata": {},
     "output_type": "execute_result"
    }
   ],
   "source": [
    "series.index"
   ]
  },
  {
   "cell_type": "code",
   "execution_count": 13,
   "id": "eb0b5d4b-ef36-4def-91a5-38ffef22e468",
   "metadata": {},
   "outputs": [
    {
     "data": {
      "text/plain": [
       "0    0\n",
       "1    1\n",
       "2    2\n",
       "3    3\n",
       "4    4\n",
       "dtype: int32"
      ]
     },
     "execution_count": 13,
     "metadata": {},
     "output_type": "execute_result"
    }
   ],
   "source": [
    "series"
   ]
  },
  {
   "cell_type": "code",
   "execution_count": 16,
   "id": "3943738a-f024-4066-b0e1-f87020d64b19",
   "metadata": {},
   "outputs": [
    {
     "data": {
      "text/plain": [
       "1    0\n",
       "2    1\n",
       "3    2\n",
       "4    3\n",
       "5    4\n",
       "dtype: int32"
      ]
     },
     "execution_count": 16,
     "metadata": {},
     "output_type": "execute_result"
    }
   ],
   "source": [
    "series.index = [i for i in range(1,6)]\n",
    "series"
   ]
  },
  {
   "cell_type": "code",
   "execution_count": 24,
   "id": "bc344c15-3c42-4e1e-b455-1b509c0169df",
   "metadata": {},
   "outputs": [
    {
     "data": {
      "text/plain": [
       "1    0\n",
       "2    1\n",
       "3    2\n",
       "4    3\n",
       "5    4\n",
       "Name: special series, dtype: int32"
      ]
     },
     "execution_count": 24,
     "metadata": {},
     "output_type": "execute_result"
    }
   ],
   "source": [
    "series.name = \"special series\"\n",
    "series"
   ]
  },
  {
   "cell_type": "markdown",
   "id": "333e53d8-90d7-449a-b558-b9403ec7c9cd",
   "metadata": {},
   "source": [
    "# Data Types Conversion"
   ]
  },
  {
   "cell_type": "code",
   "execution_count": 25,
   "id": "4570e5f7-40ec-4bb6-a8c6-edc4c68929de",
   "metadata": {},
   "outputs": [
    {
     "data": {
      "text/plain": [
       "1    0\n",
       "2    1\n",
       "3    2\n",
       "4    3\n",
       "5    4\n",
       "Name: special series, dtype: int32"
      ]
     },
     "execution_count": 25,
     "metadata": {},
     "output_type": "execute_result"
    }
   ],
   "source": [
    "series"
   ]
  },
  {
   "cell_type": "code",
   "execution_count": 26,
   "id": "9d685c4b-c4da-4b86-88be-8b252c04aaea",
   "metadata": {},
   "outputs": [
    {
     "data": {
      "text/plain": [
       "1    0.0\n",
       "2    1.0\n",
       "3    2.0\n",
       "4    3.0\n",
       "5    4.0\n",
       "Name: special series, dtype: float64"
      ]
     },
     "execution_count": 26,
     "metadata": {},
     "output_type": "execute_result"
    }
   ],
   "source": [
    "series.astype('float')"
   ]
  },
  {
   "cell_type": "code",
   "execution_count": 27,
   "id": "7f12073b-efb5-4f20-a7a6-ed340f61442e",
   "metadata": {},
   "outputs": [
    {
     "data": {
      "text/plain": [
       "1    False\n",
       "2     True\n",
       "3     True\n",
       "4     True\n",
       "5     True\n",
       "Name: special series, dtype: bool"
      ]
     },
     "execution_count": 27,
     "metadata": {},
     "output_type": "execute_result"
    }
   ],
   "source": [
    "series.astype('bool')"
   ]
  },
  {
   "cell_type": "code",
   "execution_count": 28,
   "id": "b50282eb-471a-405f-a42f-0981a06411e4",
   "metadata": {},
   "outputs": [
    {
     "data": {
      "text/plain": [
       "1    0\n",
       "2    1\n",
       "3    2\n",
       "4    3\n",
       "5    4\n",
       "Name: special series, dtype: object"
      ]
     },
     "execution_count": 28,
     "metadata": {},
     "output_type": "execute_result"
    }
   ],
   "source": [
    "series.astype('object')"
   ]
  },
  {
   "cell_type": "code",
   "execution_count": 29,
   "id": "ea4679a3-2413-4a8f-bb50-668908b3d25d",
   "metadata": {},
   "outputs": [
    {
     "data": {
      "text/plain": [
       "1    0\n",
       "2    1\n",
       "3    2\n",
       "4    3\n",
       "5    4\n",
       "Name: special series, dtype: string"
      ]
     },
     "execution_count": 29,
     "metadata": {},
     "output_type": "execute_result"
    }
   ],
   "source": [
    "series.astype('string')"
   ]
  },
  {
   "cell_type": "markdown",
   "id": "c0f4d1e0-1174-45f5-99a2-4056075e2a20",
   "metadata": {},
   "source": [
    "# Indexing"
   ]
  },
  {
   "cell_type": "code",
   "execution_count": 37,
   "id": "eaabd694-7d62-4467-99c3-ba72fdc33901",
   "metadata": {},
   "outputs": [
    {
     "data": {
      "text/plain": [
       "0    0\n",
       "1    1\n",
       "2    2\n",
       "3    3\n",
       "4    4\n",
       "dtype: int64"
      ]
     },
     "execution_count": 37,
     "metadata": {},
     "output_type": "execute_result"
    }
   ],
   "source": [
    "my_series = pd.Series(range(5))\n",
    "my_series"
   ]
  },
  {
   "cell_type": "code",
   "execution_count": 39,
   "id": "e91934fd-fa96-487c-9d06-9a109aef8eec",
   "metadata": {},
   "outputs": [
    {
     "data": {
      "text/plain": [
       "3"
      ]
     },
     "execution_count": 39,
     "metadata": {},
     "output_type": "execute_result"
    }
   ],
   "source": [
    "my_series[3]"
   ]
  },
  {
   "cell_type": "code",
   "execution_count": 40,
   "id": "0d983627-cc6d-4b8e-a3f7-923f3d04023c",
   "metadata": {},
   "outputs": [
    {
     "data": {
      "text/plain": [
       "1    1\n",
       "4    4\n",
       "dtype: int64"
      ]
     },
     "execution_count": 40,
     "metadata": {},
     "output_type": "execute_result"
    }
   ],
   "source": [
    "my_series[1::3]"
   ]
  },
  {
   "cell_type": "code",
   "execution_count": 42,
   "id": "e81cde5f-3414-4c23-bbeb-59002c1563ba",
   "metadata": {},
   "outputs": [
    {
     "data": {
      "text/plain": [
       "Day 0    0\n",
       "Day 1    1\n",
       "Day 2    2\n",
       "Day 3    3\n",
       "Day 4    4\n",
       "dtype: int64"
      ]
     },
     "execution_count": 42,
     "metadata": {},
     "output_type": "execute_result"
    }
   ],
   "source": [
    "my_series = pd.Series(range(5), index=['Day 0', 'Day 1', 'Day 2', 'Day 3', 'Day 4'])\n",
    "my_series"
   ]
  },
  {
   "cell_type": "code",
   "execution_count": 44,
   "id": "cae177e2-38ac-43c3-9823-b8d9c68c5559",
   "metadata": {},
   "outputs": [
    {
     "data": {
      "text/plain": [
       "1"
      ]
     },
     "execution_count": 44,
     "metadata": {},
     "output_type": "execute_result"
    }
   ],
   "source": [
    "my_series['Day 1']"
   ]
  },
  {
   "cell_type": "code",
   "execution_count": 46,
   "id": "8cf699d7-2a09-4bf5-a49a-0721cf91890c",
   "metadata": {},
   "outputs": [
    {
     "data": {
      "text/plain": [
       "Day 1    1\n",
       "Day 2    2\n",
       "Day 3    3\n",
       "dtype: int64"
      ]
     },
     "execution_count": 46,
     "metadata": {},
     "output_type": "execute_result"
    }
   ],
   "source": [
    "my_series['Day 1':'Day 3']"
   ]
  },
  {
   "cell_type": "markdown",
   "id": "50a0cc4f-6716-4d4c-9f01-c963384609f7",
   "metadata": {},
   "source": [
    "# .iloc and .loc Method"
   ]
  },
  {
   "cell_type": "code",
   "execution_count": 47,
   "id": "4a9e5ed9-a95a-41fc-9ee9-12c0b0812085",
   "metadata": {},
   "outputs": [
    {
     "data": {
      "text/plain": [
       "Day 0    0\n",
       "Day 1    1\n",
       "Day 2    2\n",
       "Day 3    3\n",
       "Day 4    4\n",
       "dtype: int64"
      ]
     },
     "execution_count": 47,
     "metadata": {},
     "output_type": "execute_result"
    }
   ],
   "source": [
    "my_series"
   ]
  },
  {
   "cell_type": "code",
   "execution_count": 76,
   "id": "10a84278-03b1-4d32-b446-c467d7971523",
   "metadata": {},
   "outputs": [
    {
     "data": {
      "text/plain": [
       "Day 1    1\n",
       "Day 2    2\n",
       "dtype: int64"
      ]
     },
     "execution_count": 76,
     "metadata": {},
     "output_type": "execute_result"
    }
   ],
   "source": [
    "my_series.iloc[[1,2]]\n",
    "# my_series.iloc['Day 0']"
   ]
  },
  {
   "cell_type": "code",
   "execution_count": 65,
   "id": "13d88f07-1ac3-4346-b365-d08d5dc84662",
   "metadata": {},
   "outputs": [
    {
     "data": {
      "text/plain": [
       "Day 0    0\n",
       "Day 1    1\n",
       "Day 2    2\n",
       "dtype: int64"
      ]
     },
     "execution_count": 65,
     "metadata": {},
     "output_type": "execute_result"
    }
   ],
   "source": [
    "my_series.iloc[:3]"
   ]
  },
  {
   "cell_type": "code",
   "execution_count": 69,
   "id": "3c8d9d99-c37e-476a-b83b-6b2dd8c96a42",
   "metadata": {},
   "outputs": [
    {
     "data": {
      "text/plain": [
       "Day 0    0\n",
       "Day 1    1\n",
       "dtype: int64"
      ]
     },
     "execution_count": 69,
     "metadata": {},
     "output_type": "execute_result"
    }
   ],
   "source": [
    "my_series.loc[['Day 0', 'Day 1']]"
   ]
  },
  {
   "cell_type": "code",
   "execution_count": 74,
   "id": "e9095efb-9772-4118-b51c-def42e4ad01c",
   "metadata": {},
   "outputs": [
    {
     "data": {
      "text/plain": [
       "Day 0    0\n",
       "Day 1    1\n",
       "Day 2    2\n",
       "dtype: int64"
      ]
     },
     "execution_count": 74,
     "metadata": {},
     "output_type": "execute_result"
    }
   ],
   "source": [
    "my_series.loc['Day 0':'Day 2']"
   ]
  },
  {
   "cell_type": "code",
   "execution_count": 77,
   "id": "f3677db5-9780-49bd-89e0-afb0b80df103",
   "metadata": {},
   "outputs": [
    {
     "data": {
      "text/plain": [
       "0    0\n",
       "1    1\n",
       "2    2\n",
       "3    3\n",
       "4    4\n",
       "dtype: int64"
      ]
     },
     "execution_count": 77,
     "metadata": {},
     "output_type": "execute_result"
    }
   ],
   "source": [
    "my_series.reset_index(drop=True)"
   ]
  },
  {
   "cell_type": "code",
   "execution_count": 80,
   "id": "7bf2dae3-6b5e-4d83-ace3-ff5e33190e9e",
   "metadata": {},
   "outputs": [
    {
     "data": {
      "text/plain": [
       "0    0\n",
       "1    1\n",
       "2    2\n",
       "dtype: int64"
      ]
     },
     "execution_count": 80,
     "metadata": {},
     "output_type": "execute_result"
    }
   ],
   "source": [
    "my_series.reset_index(drop=True).loc[:2]"
   ]
  },
  {
   "cell_type": "code",
   "execution_count": 82,
   "id": "06ffd0f6-eda8-4dbc-8236-505346df87a3",
   "metadata": {},
   "outputs": [
    {
     "data": {
      "text/plain": [
       "Day 0    0\n",
       "Day 0    1\n",
       "Day 2    2\n",
       "Day 3    3\n",
       "Day 4    4\n",
       "dtype: int64"
      ]
     },
     "execution_count": 82,
     "metadata": {},
     "output_type": "execute_result"
    }
   ],
   "source": [
    "new_series = pd.Series(range(5), index=['Day 0', 'Day 0', 'Day 2', 'Day 3', 'Day 4'])\n",
    "new_series"
   ]
  },
  {
   "cell_type": "code",
   "execution_count": 83,
   "id": "40192bf5-7de8-44b0-8618-63a9f05790e1",
   "metadata": {},
   "outputs": [
    {
     "data": {
      "text/plain": [
       "Day 0    0\n",
       "Day 0    1\n",
       "dtype: int64"
      ]
     },
     "execution_count": 83,
     "metadata": {},
     "output_type": "execute_result"
    }
   ],
   "source": [
    "new_series.loc['Day 0']"
   ]
  },
  {
   "cell_type": "code",
   "execution_count": 89,
   "id": "44d72b89-9955-4367-ad37-ebadddecd670",
   "metadata": {},
   "outputs": [
    {
     "data": {
      "text/plain": [
       "0"
      ]
     },
     "execution_count": 89,
     "metadata": {},
     "output_type": "execute_result"
    }
   ],
   "source": [
    "new_series.loc['Day 0'][0]"
   ]
  },
  {
   "cell_type": "code",
   "execution_count": 84,
   "id": "50557d95-115c-4a7a-9c14-3c9e137a5938",
   "metadata": {},
   "outputs": [
    {
     "data": {
      "text/html": [
       "<div>\n",
       "<style scoped>\n",
       "    .dataframe tbody tr th:only-of-type {\n",
       "        vertical-align: middle;\n",
       "    }\n",
       "\n",
       "    .dataframe tbody tr th {\n",
       "        vertical-align: top;\n",
       "    }\n",
       "\n",
       "    .dataframe thead th {\n",
       "        text-align: right;\n",
       "    }\n",
       "</style>\n",
       "<table border=\"1\" class=\"dataframe\">\n",
       "  <thead>\n",
       "    <tr style=\"text-align: right;\">\n",
       "      <th></th>\n",
       "      <th>index</th>\n",
       "      <th>0</th>\n",
       "    </tr>\n",
       "  </thead>\n",
       "  <tbody>\n",
       "    <tr>\n",
       "      <th>0</th>\n",
       "      <td>Day 0</td>\n",
       "      <td>0</td>\n",
       "    </tr>\n",
       "    <tr>\n",
       "      <th>1</th>\n",
       "      <td>Day 0</td>\n",
       "      <td>1</td>\n",
       "    </tr>\n",
       "    <tr>\n",
       "      <th>2</th>\n",
       "      <td>Day 2</td>\n",
       "      <td>2</td>\n",
       "    </tr>\n",
       "    <tr>\n",
       "      <th>3</th>\n",
       "      <td>Day 3</td>\n",
       "      <td>3</td>\n",
       "    </tr>\n",
       "    <tr>\n",
       "      <th>4</th>\n",
       "      <td>Day 4</td>\n",
       "      <td>4</td>\n",
       "    </tr>\n",
       "  </tbody>\n",
       "</table>\n",
       "</div>"
      ],
      "text/plain": [
       "   index  0\n",
       "0  Day 0  0\n",
       "1  Day 0  1\n",
       "2  Day 2  2\n",
       "3  Day 3  3\n",
       "4  Day 4  4"
      ]
     },
     "execution_count": 84,
     "metadata": {},
     "output_type": "execute_result"
    }
   ],
   "source": [
    "new_series.reset_index()"
   ]
  },
  {
   "cell_type": "code",
   "execution_count": 87,
   "id": "51cab081-0435-4598-8438-ad23b7db3a86",
   "metadata": {},
   "outputs": [
    {
     "data": {
      "text/plain": [
       "0    0\n",
       "1    1\n",
       "2    2\n",
       "3    3\n",
       "4    4\n",
       "dtype: int64"
      ]
     },
     "execution_count": 87,
     "metadata": {},
     "output_type": "execute_result"
    }
   ],
   "source": [
    "new_series.reset_index(drop=True)"
   ]
  },
  {
   "cell_type": "code",
   "execution_count": 88,
   "id": "c8f7f189-1b64-4fd0-af7d-2de67a2189ba",
   "metadata": {},
   "outputs": [
    {
     "data": {
      "text/plain": [
       "Day 0    0\n",
       "Day 0    1\n",
       "dtype: int64"
      ]
     },
     "execution_count": 88,
     "metadata": {},
     "output_type": "execute_result"
    }
   ],
   "source": [
    "new_series[0:2]"
   ]
  },
  {
   "cell_type": "code",
   "execution_count": 90,
   "id": "9e310615-a156-430b-a414-e9280da64109",
   "metadata": {},
   "outputs": [
    {
     "data": {
      "text/plain": [
       "Day 0    0\n",
       "Day 0    1\n",
       "Day 2    2\n",
       "Day 3    3\n",
       "Day 4    4\n",
       "dtype: int64"
      ]
     },
     "execution_count": 90,
     "metadata": {},
     "output_type": "execute_result"
    }
   ],
   "source": [
    "new_series"
   ]
  },
  {
   "cell_type": "markdown",
   "id": "2427ba80-7eee-4c38-bac7-a6051e4e9065",
   "metadata": {},
   "source": [
    "# Filtering And Sorting Series"
   ]
  },
  {
   "cell_type": "code",
   "execution_count": 101,
   "id": "29a4df45-70d4-4d41-bbcd-239802ff9812",
   "metadata": {},
   "outputs": [
    {
     "data": {
      "text/plain": [
       "Day 0    0\n",
       "Day 1    1\n",
       "Day 2    2\n",
       "Day 3    3\n",
       "Day 4    4\n",
       "dtype: int64"
      ]
     },
     "execution_count": 101,
     "metadata": {},
     "output_type": "execute_result"
    }
   ],
   "source": [
    "my_series"
   ]
  },
  {
   "cell_type": "code",
   "execution_count": 104,
   "id": "12df6dbf-0ab9-4dd9-9c66-89345fb6f64b",
   "metadata": {},
   "outputs": [
    {
     "data": {
      "text/plain": [
       "Day 0    0\n",
       "Day 1    1\n",
       "Day 3    3\n",
       "Day 4    4\n",
       "dtype: int64"
      ]
     },
     "execution_count": 104,
     "metadata": {},
     "output_type": "execute_result"
    }
   ],
   "source": [
    "my_series.loc[(my_series != 2)]"
   ]
  },
  {
   "cell_type": "code",
   "execution_count": 105,
   "id": "2b158623-58c0-4aed-80d7-356edf906323",
   "metadata": {},
   "outputs": [
    {
     "data": {
      "text/plain": [
       "Day 2    2\n",
       "dtype: int64"
      ]
     },
     "execution_count": 105,
     "metadata": {},
     "output_type": "execute_result"
    }
   ],
   "source": [
    "my_series.loc[~(my_series != 2)]"
   ]
  },
  {
   "cell_type": "code",
   "execution_count": 110,
   "id": "534f6cca-efe1-4d69-96c3-051fb9d4d507",
   "metadata": {},
   "outputs": [
    {
     "data": {
      "text/plain": [
       "Day 0    0\n",
       "Day 3    3\n",
       "Day 4    4\n",
       "dtype: int64"
      ]
     },
     "execution_count": 110,
     "metadata": {},
     "output_type": "execute_result"
    }
   ],
   "source": [
    "my_series.loc[~my_series.isin([1,2])]"
   ]
  },
  {
   "cell_type": "code",
   "execution_count": 111,
   "id": "5285d9af-988c-4e98-ad6e-fff9dbb4c1c5",
   "metadata": {},
   "outputs": [
    {
     "data": {
      "text/plain": [
       "Day 3    3\n",
       "Day 4    4\n",
       "dtype: int64"
      ]
     },
     "execution_count": 111,
     "metadata": {},
     "output_type": "execute_result"
    }
   ],
   "source": [
    "my_series.loc[(my_series > 2)]"
   ]
  },
  {
   "cell_type": "code",
   "execution_count": 112,
   "id": "e75b8fdd-b7af-4fba-bd9a-9074d81980ab",
   "metadata": {},
   "outputs": [
    {
     "data": {
      "text/plain": [
       "Day 0    0\n",
       "Day 1    1\n",
       "Day 2    2\n",
       "dtype: int64"
      ]
     },
     "execution_count": 112,
     "metadata": {},
     "output_type": "execute_result"
    }
   ],
   "source": [
    "my_series.loc[~(my_series > 2)]"
   ]
  },
  {
   "cell_type": "code",
   "execution_count": 114,
   "id": "6761bba1-46dc-4a81-baf3-8413d6f57ffd",
   "metadata": {},
   "outputs": [
    {
     "data": {
      "text/plain": [
       "Day 0    0\n",
       "Day 1    1\n",
       "Day 2    2\n",
       "dtype: int64"
      ]
     },
     "execution_count": 114,
     "metadata": {},
     "output_type": "execute_result"
    }
   ],
   "source": [
    "my_series.loc[my_series.gt(2)]"
   ]
  },
  {
   "cell_type": "code",
   "execution_count": 115,
   "id": "f1e1f461-2eec-4509-8f27-e7d86559a587",
   "metadata": {},
   "outputs": [
    {
     "data": {
      "text/plain": [
       "Day 0    0\n",
       "Day 1    1\n",
       "Day 2    2\n",
       "dtype: int64"
      ]
     },
     "execution_count": 115,
     "metadata": {},
     "output_type": "execute_result"
    }
   ],
   "source": [
    "my_series.loc[~my_series.gt(2)]"
   ]
  },
  {
   "cell_type": "code",
   "execution_count": 118,
   "id": "34bd07dd-0301-4de4-bd1a-473472a0121c",
   "metadata": {},
   "outputs": [
    {
     "data": {
      "text/plain": [
       "Day 2    2\n",
       "Day 3    3\n",
       "Day 4    4\n",
       "dtype: int64"
      ]
     },
     "execution_count": 118,
     "metadata": {},
     "output_type": "execute_result"
    }
   ],
   "source": [
    "my_series.loc[my_series.ge(2)]"
   ]
  },
  {
   "cell_type": "code",
   "execution_count": 116,
   "id": "1c25d453-17bd-4541-9470-c4f985ae5cf8",
   "metadata": {},
   "outputs": [
    {
     "data": {
      "text/plain": [
       "Day 0    0\n",
       "Day 1    1\n",
       "dtype: int64"
      ]
     },
     "execution_count": 116,
     "metadata": {},
     "output_type": "execute_result"
    }
   ],
   "source": [
    "my_series.loc[my_series.lt(2)]"
   ]
  },
  {
   "cell_type": "code",
   "execution_count": 119,
   "id": "4c3e4bd5-a219-4f9f-bfd9-dd87d34473db",
   "metadata": {},
   "outputs": [
    {
     "data": {
      "text/plain": [
       "Day 2    2\n",
       "Day 3    3\n",
       "Day 4    4\n",
       "dtype: int64"
      ]
     },
     "execution_count": 119,
     "metadata": {},
     "output_type": "execute_result"
    }
   ],
   "source": [
    "my_series.loc[~my_series.lt(2)]"
   ]
  },
  {
   "cell_type": "code",
   "execution_count": 120,
   "id": "090e69b4-858f-473d-a453-2dde18cd1df2",
   "metadata": {},
   "outputs": [
    {
     "data": {
      "text/plain": [
       "Day 0    0\n",
       "Day 1    1\n",
       "Day 2    2\n",
       "dtype: int64"
      ]
     },
     "execution_count": 120,
     "metadata": {},
     "output_type": "execute_result"
    }
   ],
   "source": [
    "my_series.loc[my_series.le(2)]"
   ]
  },
  {
   "cell_type": "code",
   "execution_count": 123,
   "id": "e89f0d12-83d2-40df-bc68-b9e4394d3d48",
   "metadata": {},
   "outputs": [
    {
     "data": {
      "text/plain": [
       "Day 2    2\n",
       "dtype: int64"
      ]
     },
     "execution_count": 123,
     "metadata": {},
     "output_type": "execute_result"
    }
   ],
   "source": [
    "mask = (my_series.isin([1,2])) & (my_series >= 2)\n",
    "my_series[mask]"
   ]
  },
  {
   "cell_type": "markdown",
   "id": "a18f9f24-4244-4bae-83f8-ccc3baa692e0",
   "metadata": {},
   "source": [
    "### sorting"
   ]
  },
  {
   "cell_type": "code",
   "execution_count": 124,
   "id": "6c5ae06c-9fe1-4c0f-9bf2-ef689f2a97e8",
   "metadata": {},
   "outputs": [
    {
     "data": {
      "text/plain": [
       "Day 0    0\n",
       "Day 1    1\n",
       "Day 2    2\n",
       "Day 3    3\n",
       "Day 4    4\n",
       "dtype: int64"
      ]
     },
     "execution_count": 124,
     "metadata": {},
     "output_type": "execute_result"
    }
   ],
   "source": [
    "my_series"
   ]
  },
  {
   "cell_type": "code",
   "execution_count": 127,
   "id": "b1ed93f4-7cc6-43f7-b09e-1e768c6bde91",
   "metadata": {},
   "outputs": [
    {
     "data": {
      "text/plain": [
       "Day 4    4\n",
       "Day 3    3\n",
       "Day 2    2\n",
       "Day 1    1\n",
       "Day 0    0\n",
       "dtype: int64"
      ]
     },
     "execution_count": 127,
     "metadata": {},
     "output_type": "execute_result"
    }
   ],
   "source": [
    "my_series.sort_values(ascending=False)"
   ]
  },
  {
   "cell_type": "code",
   "execution_count": 128,
   "id": "20c8431b-dab7-47e8-9fe5-f9c547ce3111",
   "metadata": {},
   "outputs": [
    {
     "data": {
      "text/plain": [
       "Day 0    0\n",
       "Day 1    1\n",
       "Day 2    2\n",
       "Day 3    3\n",
       "Day 4    4\n",
       "dtype: int64"
      ]
     },
     "execution_count": 128,
     "metadata": {},
     "output_type": "execute_result"
    }
   ],
   "source": [
    "my_series.sort_index()"
   ]
  },
  {
   "cell_type": "markdown",
   "id": "5e0e1150-846e-4251-ada9-f81c0835d015",
   "metadata": {},
   "source": [
    "# Numeric Series operations"
   ]
  },
  {
   "cell_type": "code",
   "execution_count": 132,
   "id": "61e9c882-ad9e-4f66-b693-cdca2a4f3963",
   "metadata": {},
   "outputs": [
    {
     "data": {
      "text/plain": [
       "Day 0    1.0\n",
       "Day 1    NaN\n",
       "Day 2    2.0\n",
       "Day 3    3.0\n",
       "Day 4    4.0\n",
       "dtype: float64"
      ]
     },
     "execution_count": 132,
     "metadata": {},
     "output_type": "execute_result"
    }
   ],
   "source": [
    "my_series1 = pd.Series([1, np.NaN, 2, 3,4], index=['Day 0', 'Day 1', 'Day 2', 'Day 3', 'Day 4'])\n",
    "my_series1"
   ]
  },
  {
   "cell_type": "code",
   "execution_count": 133,
   "id": "fbc813ab-7dd0-49d2-84df-9fd4bcc23e2c",
   "metadata": {},
   "outputs": [
    {
     "data": {
      "text/plain": [
       "Day 0    2.0\n",
       "Day 1    NaN\n",
       "Day 2    3.0\n",
       "Day 3    4.0\n",
       "Day 4    5.0\n",
       "dtype: float64"
      ]
     },
     "execution_count": 133,
     "metadata": {},
     "output_type": "execute_result"
    }
   ],
   "source": [
    "my_series1 + 1"
   ]
  },
  {
   "cell_type": "code",
   "execution_count": 136,
   "id": "207b5767-cd86-484b-ad54-2fe409323c1b",
   "metadata": {},
   "outputs": [
    {
     "data": {
      "text/plain": [
       "Day 0    2.0\n",
       "Day 1    1.0\n",
       "Day 2    3.0\n",
       "Day 3    4.0\n",
       "Day 4    5.0\n",
       "dtype: float64"
      ]
     },
     "execution_count": 136,
     "metadata": {},
     "output_type": "execute_result"
    }
   ],
   "source": [
    "my_series1.add(1, fill_value=0)"
   ]
  },
  {
   "cell_type": "code",
   "execution_count": 141,
   "id": "eaac9f1e-c9eb-49a9-95b6-e646f50dc84b",
   "metadata": {},
   "outputs": [
    {
     "data": {
      "text/plain": [
       "Day 0    2\n",
       "Day 1    1\n",
       "Day 2    3\n",
       "Day 3    4\n",
       "Day 4    5\n",
       "dtype: int32"
      ]
     },
     "execution_count": 141,
     "metadata": {},
     "output_type": "execute_result"
    }
   ],
   "source": [
    "my_series2 = my_series1.add(1, fill_value=0).astype('int')\n",
    "my_series2"
   ]
  },
  {
   "cell_type": "code",
   "execution_count": 143,
   "id": "21501f04-ab8c-44dc-85f8-d3c03814da60",
   "metadata": {},
   "outputs": [
    {
     "data": {
      "text/plain": [
       "Day 0    1.0\n",
       "Day 1    0.5\n",
       "Day 2    1.5\n",
       "Day 3    2.0\n",
       "Day 4    2.5\n",
       "dtype: float64"
      ]
     },
     "execution_count": 143,
     "metadata": {},
     "output_type": "execute_result"
    }
   ],
   "source": [
    "my_series2 / 2 "
   ]
  },
  {
   "cell_type": "code",
   "execution_count": 144,
   "id": "44ae8542-84be-4886-92ce-741392bf44d9",
   "metadata": {},
   "outputs": [
    {
     "data": {
      "text/plain": [
       "Day 0    1\n",
       "Day 1    0\n",
       "Day 2    1\n",
       "Day 3    2\n",
       "Day 4    2\n",
       "dtype: int32"
      ]
     },
     "execution_count": 144,
     "metadata": {},
     "output_type": "execute_result"
    }
   ],
   "source": [
    "my_series2 // 2 "
   ]
  },
  {
   "cell_type": "code",
   "execution_count": 145,
   "id": "b54d2b54-c8f0-4b7d-9baf-a06f12bd9a6a",
   "metadata": {},
   "outputs": [
    {
     "data": {
      "text/plain": [
       "Day 0    2\n",
       "Day 1    2\n",
       "Day 2    5\n",
       "Day 3    7\n",
       "Day 4    9\n",
       "dtype: int64"
      ]
     },
     "execution_count": 145,
     "metadata": {},
     "output_type": "execute_result"
    }
   ],
   "source": [
    "my_series + my_series2"
   ]
  },
  {
   "cell_type": "code",
   "execution_count": 146,
   "id": "065e1369-380d-4b87-8636-f63299d69149",
   "metadata": {},
   "outputs": [
    {
     "data": {
      "text/plain": [
       "Day 0    2\n",
       "Day 1    2\n",
       "Day 2    5\n",
       "Day 3    7\n",
       "Day 4    9\n",
       "dtype: int64"
      ]
     },
     "execution_count": 146,
     "metadata": {},
     "output_type": "execute_result"
    }
   ],
   "source": [
    "my_series.add(my_series2)"
   ]
  },
  {
   "cell_type": "code",
   "execution_count": 147,
   "id": "c92c40e6-2e7e-4e89-a18a-73e0dcc4d9e3",
   "metadata": {},
   "outputs": [
    {
     "data": {
      "text/plain": [
       "Day 0    1.0\n",
       "Day 1    1.0\n",
       "Day 2    2.5\n",
       "Day 3    3.5\n",
       "Day 4    4.5\n",
       "dtype: float64"
      ]
     },
     "execution_count": 147,
     "metadata": {},
     "output_type": "execute_result"
    }
   ],
   "source": [
    "(my_series + my_series2) / 2"
   ]
  },
  {
   "cell_type": "markdown",
   "id": "8f5bfe1a-59b6-45bd-8e12-9bb783ab2316",
   "metadata": {},
   "source": [
    "# Text Series Operations"
   ]
  },
  {
   "cell_type": "code",
   "execution_count": 157,
   "id": "2e763ef9-6d8d-451e-9bba-54e7c7b21097",
   "metadata": {},
   "outputs": [
    {
     "data": {
      "text/plain": [
       "0    Day 0\n",
       "1    Day 1\n",
       "2    Day 2\n",
       "3    Day 3\n",
       "4    Day 4\n",
       "dtype: object"
      ]
     },
     "execution_count": 157,
     "metadata": {},
     "output_type": "execute_result"
    }
   ],
   "source": [
    "string_series = pd.Series(['Day 0', 'Day 1', 'Day 2', 'Day 3', 'Day 4'])\n",
    "string_series"
   ]
  },
  {
   "cell_type": "code",
   "execution_count": 150,
   "id": "164f51d7-1af2-435c-9526-a668fcf89aa2",
   "metadata": {},
   "outputs": [
    {
     "data": {
      "text/plain": [
       "0    DAY 0\n",
       "1    DAY 1\n",
       "2    DAY 2\n",
       "3    DAY 3\n",
       "4    DAY 4\n",
       "dtype: object"
      ]
     },
     "execution_count": 150,
     "metadata": {},
     "output_type": "execute_result"
    }
   ],
   "source": [
    "string_series.str.upper()"
   ]
  },
  {
   "cell_type": "code",
   "execution_count": 153,
   "id": "154fc017-2ce3-4d3a-9690-bc829c8a623b",
   "metadata": {},
   "outputs": [
    {
     "data": {
      "text/plain": [
       "0    False\n",
       "1     True\n",
       "2    False\n",
       "3    False\n",
       "4    False\n",
       "dtype: bool"
      ]
     },
     "execution_count": 153,
     "metadata": {},
     "output_type": "execute_result"
    }
   ],
   "source": [
    "string_series.str.upper().str.contains('DAY 1')"
   ]
  },
  {
   "cell_type": "code",
   "execution_count": 158,
   "id": "41a9f3f5-15dd-4425-a85f-9731bd2fe2d3",
   "metadata": {},
   "outputs": [
    {
     "data": {
      "text/plain": [
       "0    Day 0\n",
       "1    Day 1\n",
       "2    Day 2\n",
       "3    Day 3\n",
       "4    Day 4\n",
       "dtype: object"
      ]
     },
     "execution_count": 158,
     "metadata": {},
     "output_type": "execute_result"
    }
   ],
   "source": [
    "string_series.str.strip()"
   ]
  },
  {
   "cell_type": "code",
   "execution_count": 167,
   "id": "0c776a59-d0d1-42cf-b21a-56005bcfc3b4",
   "metadata": {},
   "outputs": [
    {
     "data": {
      "text/plain": [
       "0    0\n",
       "1    1\n",
       "2    2\n",
       "3    3\n",
       "4    4\n",
       "dtype: int32"
      ]
     },
     "execution_count": 167,
     "metadata": {},
     "output_type": "execute_result"
    }
   ],
   "source": [
    "string_series.str[-1].astype('int')"
   ]
  },
  {
   "cell_type": "code",
   "execution_count": 171,
   "id": "9f50d95f-a3ea-41c4-8266-3f01e72a8823",
   "metadata": {},
   "outputs": [
    {
     "data": {
      "text/plain": [
       "0    ay\n",
       "1    ay\n",
       "2    ay\n",
       "3    ay\n",
       "4    ay\n",
       "dtype: object"
      ]
     },
     "execution_count": 171,
     "metadata": {},
     "output_type": "execute_result"
    }
   ],
   "source": [
    "string_series.str[1:3]"
   ]
  },
  {
   "cell_type": "code",
   "execution_count": 173,
   "id": "ad85ff52-f6d2-4b84-8d9e-4cc1a1b567ef",
   "metadata": {},
   "outputs": [
    {
     "data": {
      "text/html": [
       "<div>\n",
       "<style scoped>\n",
       "    .dataframe tbody tr th:only-of-type {\n",
       "        vertical-align: middle;\n",
       "    }\n",
       "\n",
       "    .dataframe tbody tr th {\n",
       "        vertical-align: top;\n",
       "    }\n",
       "\n",
       "    .dataframe thead th {\n",
       "        text-align: right;\n",
       "    }\n",
       "</style>\n",
       "<table border=\"1\" class=\"dataframe\">\n",
       "  <thead>\n",
       "    <tr style=\"text-align: right;\">\n",
       "      <th></th>\n",
       "      <th>0</th>\n",
       "      <th>1</th>\n",
       "    </tr>\n",
       "  </thead>\n",
       "  <tbody>\n",
       "    <tr>\n",
       "      <th>0</th>\n",
       "      <td>Day</td>\n",
       "      <td>0</td>\n",
       "    </tr>\n",
       "    <tr>\n",
       "      <th>1</th>\n",
       "      <td>Day</td>\n",
       "      <td>1</td>\n",
       "    </tr>\n",
       "    <tr>\n",
       "      <th>2</th>\n",
       "      <td>Day</td>\n",
       "      <td>2</td>\n",
       "    </tr>\n",
       "    <tr>\n",
       "      <th>3</th>\n",
       "      <td>Day</td>\n",
       "      <td>3</td>\n",
       "    </tr>\n",
       "    <tr>\n",
       "      <th>4</th>\n",
       "      <td>Day</td>\n",
       "      <td>4</td>\n",
       "    </tr>\n",
       "  </tbody>\n",
       "</table>\n",
       "</div>"
      ],
      "text/plain": [
       "     0  1\n",
       "0  Day  0\n",
       "1  Day  1\n",
       "2  Day  2\n",
       "3  Day  3\n",
       "4  Day  4"
      ]
     },
     "execution_count": 173,
     "metadata": {},
     "output_type": "execute_result"
    }
   ],
   "source": [
    "string_series.str.split(' ', expand=True)"
   ]
  },
  {
   "cell_type": "markdown",
   "id": "b00ddbae-529b-4ee2-9955-09e20d105d40",
   "metadata": {},
   "source": [
    "# Numeric Aggregations"
   ]
  },
  {
   "cell_type": "code",
   "execution_count": 178,
   "id": "99f035dc-ad14-47dc-9378-f5857e0acefa",
   "metadata": {},
   "outputs": [
    {
     "data": {
      "text/plain": [
       "0     770\n",
       "1    2111\n",
       "2    2358\n",
       "3    3487\n",
       "4    1922\n",
       "Name: transactions, dtype: int64"
      ]
     },
     "execution_count": 178,
     "metadata": {},
     "output_type": "execute_result"
    }
   ],
   "source": [
    "transactions = pd.read_csv('transactions.csv')\n",
    "transactions_series = pd.Series(transactions['transactions'])\n",
    "transactions_series.iloc[:5]"
   ]
  },
  {
   "cell_type": "code",
   "execution_count": 179,
   "id": "36f71e5f-e2e9-455d-a99d-0606e22bbe03",
   "metadata": {},
   "outputs": [
    {
     "data": {
      "text/plain": [
       "83488"
      ]
     },
     "execution_count": 179,
     "metadata": {},
     "output_type": "execute_result"
    }
   ],
   "source": [
    "transactions_series.count()"
   ]
  },
  {
   "cell_type": "code",
   "execution_count": 180,
   "id": "475172e2-2d09-4a7b-b00d-7bdde9dcd9df",
   "metadata": {},
   "outputs": [
    {
     "data": {
      "text/plain": [
       "141478945"
      ]
     },
     "execution_count": 180,
     "metadata": {},
     "output_type": "execute_result"
    }
   ],
   "source": [
    "transactions_series.sum()"
   ]
  },
  {
   "cell_type": "code",
   "execution_count": 181,
   "id": "3a9bb25a-bcf1-46e8-b796-e42f92758152",
   "metadata": {},
   "outputs": [
    {
     "data": {
      "text/plain": [
       "1694.6021583940208"
      ]
     },
     "execution_count": 181,
     "metadata": {},
     "output_type": "execute_result"
    }
   ],
   "source": [
    "transactions_series.mean()"
   ]
  },
  {
   "cell_type": "code",
   "execution_count": 184,
   "id": "b170dc13-a8e0-4dc4-9b97-20019d8d67c4",
   "metadata": {},
   "outputs": [
    {
     "data": {
      "text/plain": [
       "0.5    2111\n",
       "Name: transactions, dtype: int64"
      ]
     },
     "execution_count": 184,
     "metadata": {},
     "output_type": "execute_result"
    }
   ],
   "source": [
    "transactions_series.iloc[:5].quantile([.5], interpolation='nearest')"
   ]
  },
  {
   "cell_type": "code",
   "execution_count": 187,
   "id": "dbcddf80-280a-4288-ac87-c7d045e88111",
   "metadata": {},
   "outputs": [
    {
     "data": {
      "text/plain": [
       "array([ 770, 2111, 2358, ..., 4553, 4400, 4392], dtype=int64)"
      ]
     },
     "execution_count": 187,
     "metadata": {},
     "output_type": "execute_result"
    }
   ],
   "source": [
    "transactions_series.unique()"
   ]
  },
  {
   "cell_type": "code",
   "execution_count": 189,
   "id": "9d090f4a-2acb-4943-b83f-ce2d90cc0334",
   "metadata": {},
   "outputs": [
    {
     "data": {
      "text/plain": [
       "Day 0    0\n",
       "Day 0    1\n",
       "Day 2    2\n",
       "Day 3    3\n",
       "Day 4    4\n",
       "dtype: int64"
      ]
     },
     "execution_count": 189,
     "metadata": {},
     "output_type": "execute_result"
    }
   ],
   "source": [
    "new_series"
   ]
  },
  {
   "cell_type": "code",
   "execution_count": 192,
   "id": "f6a224df-b929-40b3-912d-f2a4daf16ca1",
   "metadata": {},
   "outputs": [
    {
     "data": {
      "text/plain": [
       "0    Day 0\n",
       "1    Day 0\n",
       "2    Day 2\n",
       "3    Day 3\n",
       "4    Day 4\n",
       "dtype: object"
      ]
     },
     "execution_count": 192,
     "metadata": {},
     "output_type": "execute_result"
    }
   ],
   "source": [
    "string_series1 = pd.Series(['Day 0', 'Day 0', 'Day 2', 'Day 3', 'Day 4'])\n",
    "string_series1"
   ]
  },
  {
   "cell_type": "code",
   "execution_count": 193,
   "id": "84251b84-bf31-40a3-9610-57437d2dd481",
   "metadata": {},
   "outputs": [
    {
     "data": {
      "text/plain": [
       "array(['Day 0', 'Day 2', 'Day 3', 'Day 4'], dtype=object)"
      ]
     },
     "execution_count": 193,
     "metadata": {},
     "output_type": "execute_result"
    }
   ],
   "source": [
    "string_series1.unique()"
   ]
  },
  {
   "cell_type": "code",
   "execution_count": 195,
   "id": "5ff292e6-96de-4b79-9232-1e3213d91809",
   "metadata": {},
   "outputs": [
    {
     "data": {
      "text/plain": [
       "Day 0    0.4\n",
       "Day 2    0.2\n",
       "Day 3    0.2\n",
       "Day 4    0.2\n",
       "Name: proportion, dtype: float64"
      ]
     },
     "execution_count": 195,
     "metadata": {},
     "output_type": "execute_result"
    }
   ],
   "source": [
    "string_series1.value_counts(normalize=True)"
   ]
  },
  {
   "cell_type": "markdown",
   "id": "71b3635b-2583-4c0d-bcd8-8c72acb8a827",
   "metadata": {},
   "source": [
    "# Work with Missing Data "
   ]
  },
  {
   "cell_type": "code",
   "execution_count": 205,
   "id": "90af9da2-ccfb-46db-8562-03db2852f579",
   "metadata": {},
   "outputs": [
    {
     "data": {
      "text/plain": [
       "0   NaN\n",
       "1   NaN\n",
       "2   NaN\n",
       "3   NaN\n",
       "4   NaN\n",
       "dtype: float64"
      ]
     },
     "execution_count": 205,
     "metadata": {},
     "output_type": "execute_result"
    }
   ],
   "source": [
    "missing_data = pd.Series([np.NaN]*5)\n",
    "missing_data # can't use it .astype('int')"
   ]
  },
  {
   "cell_type": "code",
   "execution_count": 202,
   "id": "6ba46040-74f7-4623-9370-4c220bd97b53",
   "metadata": {},
   "outputs": [
    {
     "data": {
      "text/plain": [
       "0.0"
      ]
     },
     "execution_count": 202,
     "metadata": {},
     "output_type": "execute_result"
    }
   ],
   "source": [
    "missing_data.sum()"
   ]
  },
  {
   "cell_type": "code",
   "execution_count": 203,
   "id": "1343aed2-dde8-4b49-9698-fa0c0c7e79a6",
   "metadata": {},
   "outputs": [
    {
     "data": {
      "text/plain": [
       "5"
      ]
     },
     "execution_count": 203,
     "metadata": {},
     "output_type": "execute_result"
    }
   ],
   "source": [
    "missing_data.isna().sum()"
   ]
  },
  {
   "cell_type": "code",
   "execution_count": 206,
   "id": "2f612783-3e37-4e4f-aacb-1711e98662f6",
   "metadata": {},
   "outputs": [
    {
     "data": {
      "text/plain": [
       "0    1\n",
       "1    1\n",
       "2    1\n",
       "3    1\n",
       "4    1\n",
       "dtype: int32"
      ]
     },
     "execution_count": 206,
     "metadata": {},
     "output_type": "execute_result"
    }
   ],
   "source": [
    "missing_data.isna().astype('int')"
   ]
  }
 ],
 "metadata": {
  "kernelspec": {
   "display_name": "Python 3 (ipykernel)",
   "language": "python",
   "name": "python3"
  },
  "language_info": {
   "codemirror_mode": {
    "name": "ipython",
    "version": 3
   },
   "file_extension": ".py",
   "mimetype": "text/x-python",
   "name": "python",
   "nbconvert_exporter": "python",
   "pygments_lexer": "ipython3",
   "version": "3.11.4"
  }
 },
 "nbformat": 4,
 "nbformat_minor": 5
}
