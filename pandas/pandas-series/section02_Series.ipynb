{
 "cells": [
  {
   "cell_type": "code",
   "execution_count": 1,
   "id": "b2d1c5b7",
   "metadata": {},
   "outputs": [],
   "source": [
    "# import libraries needed\n",
    "import pandas as pd\n",
    "import numpy as np"
   ]
  },
  {
   "cell_type": "markdown",
   "id": "31a24d50",
   "metadata": {},
   "source": [
    "# Assignment 1: Series Basics\n",
    "\n",
    "The code has been previded to create an array, `oil_array` from a dataframe column. \n",
    "\n",
    "* Convert `oil_array` into a Pandas Series, called `oil_series`. Give it a name!\n",
    "* Return the name, dtype, size, and index of `oil_series`.\n",
    "\n",
    "Take the mean of the values array. \n",
    "\n",
    "Then, convert the series to integer datatype and recalculate the mean. \n"
   ]
  },
  {
   "cell_type": "code",
   "execution_count": 3,
   "id": "df36e3d6",
   "metadata": {},
   "outputs": [
    {
     "data": {
      "text/html": [
       "<div>\n",
       "<style scoped>\n",
       "    .dataframe tbody tr th:only-of-type {\n",
       "        vertical-align: middle;\n",
       "    }\n",
       "\n",
       "    .dataframe tbody tr th {\n",
       "        vertical-align: top;\n",
       "    }\n",
       "\n",
       "    .dataframe thead th {\n",
       "        text-align: right;\n",
       "    }\n",
       "</style>\n",
       "<table border=\"1\" class=\"dataframe\">\n",
       "  <thead>\n",
       "    <tr style=\"text-align: right;\">\n",
       "      <th></th>\n",
       "      <th>date</th>\n",
       "      <th>dcoilwtico</th>\n",
       "    </tr>\n",
       "  </thead>\n",
       "  <tbody>\n",
       "    <tr>\n",
       "      <th>1</th>\n",
       "      <td>2013-01-02</td>\n",
       "      <td>93.14</td>\n",
       "    </tr>\n",
       "    <tr>\n",
       "      <th>2</th>\n",
       "      <td>2013-01-03</td>\n",
       "      <td>92.97</td>\n",
       "    </tr>\n",
       "    <tr>\n",
       "      <th>3</th>\n",
       "      <td>2013-01-04</td>\n",
       "      <td>93.12</td>\n",
       "    </tr>\n",
       "    <tr>\n",
       "      <th>4</th>\n",
       "      <td>2013-01-07</td>\n",
       "      <td>93.20</td>\n",
       "    </tr>\n",
       "    <tr>\n",
       "      <th>5</th>\n",
       "      <td>2013-01-08</td>\n",
       "      <td>93.21</td>\n",
       "    </tr>\n",
       "    <tr>\n",
       "      <th>...</th>\n",
       "      <td>...</td>\n",
       "      <td>...</td>\n",
       "    </tr>\n",
       "    <tr>\n",
       "      <th>1213</th>\n",
       "      <td>2017-08-25</td>\n",
       "      <td>47.65</td>\n",
       "    </tr>\n",
       "    <tr>\n",
       "      <th>1214</th>\n",
       "      <td>2017-08-28</td>\n",
       "      <td>46.40</td>\n",
       "    </tr>\n",
       "    <tr>\n",
       "      <th>1215</th>\n",
       "      <td>2017-08-29</td>\n",
       "      <td>46.46</td>\n",
       "    </tr>\n",
       "    <tr>\n",
       "      <th>1216</th>\n",
       "      <td>2017-08-30</td>\n",
       "      <td>45.96</td>\n",
       "    </tr>\n",
       "    <tr>\n",
       "      <th>1217</th>\n",
       "      <td>2017-08-31</td>\n",
       "      <td>47.26</td>\n",
       "    </tr>\n",
       "  </tbody>\n",
       "</table>\n",
       "<p>1175 rows × 2 columns</p>\n",
       "</div>"
      ],
      "text/plain": [
       "            date  dcoilwtico\n",
       "1     2013-01-02       93.14\n",
       "2     2013-01-03       92.97\n",
       "3     2013-01-04       93.12\n",
       "4     2013-01-07       93.20\n",
       "5     2013-01-08       93.21\n",
       "...          ...         ...\n",
       "1213  2017-08-25       47.65\n",
       "1214  2017-08-28       46.40\n",
       "1215  2017-08-29       46.46\n",
       "1216  2017-08-30       45.96\n",
       "1217  2017-08-31       47.26\n",
       "\n",
       "[1175 rows x 2 columns]"
      ]
     },
     "execution_count": 3,
     "metadata": {},
     "output_type": "execute_result"
    }
   ],
   "source": [
    "# create a DataFrame from the oil file, drop missing values\n",
    "oil = pd.read_csv(\"oil.csv\").dropna()\n",
    "oil"
   ]
  },
  {
   "cell_type": "code",
   "execution_count": 43,
   "id": "fc70abd0",
   "metadata": {},
   "outputs": [
    {
     "data": {
      "text/plain": [
       "array([52.22, 51.44, 51.98, 52.01, 52.82, 54.01, 53.8 , 53.75, 52.36,\n",
       "       53.26, 53.77, 53.98, 51.95, 50.82, 52.19, 53.01, 52.36, 52.45,\n",
       "       51.12, 51.39, 52.33, 52.77, 52.38, 52.14, 53.24, 53.18, 52.63,\n",
       "       52.75, 53.9 , 53.55, 53.81, 53.01, 52.19, 52.37, 52.99, 53.84,\n",
       "       52.96, 53.21, 53.11, 53.41, 53.41, 54.02, 53.61, 54.48, 53.99,\n",
       "       54.04, 54.  , 53.82, 52.63, 53.33, 53.19, 52.68, 49.83, 48.75,\n",
       "       48.05, 47.95, 47.24, 48.34, 48.3 , 48.34, 47.79, 47.02, 47.29,\n",
       "       47.  , 47.3 , 47.02, 48.36, 49.47, 50.3 , 50.54, 50.25, 50.99,\n",
       "       51.14, 51.69, 52.25, 53.06, 53.38, 53.12, 53.19, 52.62, 52.46,\n",
       "       50.49, 50.26, 49.64, 48.9 , 49.22, 49.22, 48.96, 49.31, 48.83,\n",
       "       47.65, 47.79, 45.55, 46.23, 46.46, 45.84, 47.28, 47.81, 47.83,\n",
       "       48.86])"
      ]
     },
     "execution_count": 43,
     "metadata": {},
     "output_type": "execute_result"
    }
   ],
   "source": [
    "# Grab 100 rows of oil prices\n",
    "oil_array = np.array(oil[\"dcoilwtico\"].iloc[1000:1100])\n",
    "\n",
    "oil_array"
   ]
  },
  {
   "cell_type": "code",
   "execution_count": 7,
   "id": "54190e1a",
   "metadata": {},
   "outputs": [
    {
     "data": {
      "text/plain": [
       "100"
      ]
     },
     "execution_count": 7,
     "metadata": {},
     "output_type": "execute_result"
    }
   ],
   "source": [
    "oil_array.size"
   ]
  },
  {
   "cell_type": "code",
   "execution_count": 9,
   "id": "7bf43cdc",
   "metadata": {},
   "outputs": [
    {
     "data": {
      "text/plain": [
       "0     93.14\n",
       "1     92.97\n",
       "2     93.12\n",
       "3     93.20\n",
       "4     93.21\n",
       "      ...  \n",
       "95    96.29\n",
       "96    95.55\n",
       "97    93.98\n",
       "98    94.12\n",
       "99    93.84\n",
       "Name: oil_series, Length: 100, dtype: float64"
      ]
     },
     "execution_count": 9,
     "metadata": {},
     "output_type": "execute_result"
    }
   ],
   "source": [
    "oil_series = pd.Series(oil_array, name=\"oil_series\")\n",
    "oil_series"
   ]
  },
  {
   "cell_type": "code",
   "execution_count": 14,
   "id": "96a0fb2a",
   "metadata": {},
   "outputs": [
    {
     "data": {
      "text/plain": [
       "('oil_series',\n",
       " dtype('float64'),\n",
       " RangeIndex(start=0, stop=100, step=1),\n",
       " 93.89929999999998,\n",
       " 93.89929999999998)"
      ]
     },
     "execution_count": 14,
     "metadata": {},
     "output_type": "execute_result"
    }
   ],
   "source": [
    "oil_series.name, oil_series.dtype, oil_series.index, oil_series.mean(), oil_series.values.mean()"
   ]
  },
  {
   "cell_type": "code",
   "execution_count": 15,
   "id": "1b6d11ee",
   "metadata": {},
   "outputs": [
    {
     "data": {
      "text/plain": [
       "0     93\n",
       "1     92\n",
       "2     93\n",
       "3     93\n",
       "4     93\n",
       "      ..\n",
       "95    96\n",
       "96    95\n",
       "97    93\n",
       "98    94\n",
       "99    93\n",
       "Name: oil_series, Length: 100, dtype: int32"
      ]
     },
     "execution_count": 15,
     "metadata": {},
     "output_type": "execute_result"
    }
   ],
   "source": [
    "oil_series.astype('int')"
   ]
  },
  {
   "cell_type": "code",
   "execution_count": null,
   "id": "d5bc48f2",
   "metadata": {},
   "outputs": [],
   "source": []
  },
  {
   "cell_type": "markdown",
   "id": "663f2bda",
   "metadata": {},
   "source": [
    "# Assignment 2:  Accessing Series Data\n",
    "\n",
    "* Set the date series, which has been created below, to be the index of the oil price series created in assignment 1.\n",
    "\n",
    "\n",
    "* Then, take the mean of the first 10 and last 10 prices of the series.\n",
    "\n",
    "\n",
    "* Finally, grab all oil prices from January 1st, 2017 - January 7th, 2017 (inclusive) and set the index to the default integer index."
   ]
  },
  {
   "cell_type": "code",
   "execution_count": 17,
   "id": "cad8001a",
   "metadata": {},
   "outputs": [
    {
     "data": {
      "text/plain": [
       "1035    2016-12-20\n",
       "1036    2016-12-21\n",
       "1037    2016-12-22\n",
       "1038    2016-12-23\n",
       "1040    2016-12-27\n",
       "           ...    \n",
       "1135    2017-05-09\n",
       "1136    2017-05-10\n",
       "1137    2017-05-11\n",
       "1138    2017-05-12\n",
       "1139    2017-05-15\n",
       "Name: date, Length: 100, dtype: object"
      ]
     },
     "execution_count": 17,
     "metadata": {},
     "output_type": "execute_result"
    }
   ],
   "source": [
    "# extract date column from oil DataFrame and grab first 100 rows\n",
    "\n",
    "dates = pd.Series(oil[\"date\"]).iloc[1000:1100]\n",
    "dates"
   ]
  },
  {
   "cell_type": "code",
   "execution_count": 29,
   "id": "49b55b99",
   "metadata": {},
   "outputs": [
    {
     "data": {
      "text/plain": [
       "date\n",
       "2016-12-20    93.14\n",
       "2016-12-21    92.97\n",
       "2016-12-22    93.12\n",
       "2016-12-23    93.20\n",
       "2016-12-27    93.21\n",
       "              ...  \n",
       "2017-05-09    96.29\n",
       "2017-05-10    95.55\n",
       "2017-05-11    93.98\n",
       "2017-05-12    94.12\n",
       "2017-05-15    93.84\n",
       "Name: oil_series, Length: 100, dtype: float64"
      ]
     },
     "execution_count": 29,
     "metadata": {},
     "output_type": "execute_result"
    }
   ],
   "source": [
    "oil_series.index = dates\n",
    "oil_series"
   ]
  },
  {
   "cell_type": "code",
   "execution_count": 31,
   "id": "801aae04",
   "metadata": {},
   "outputs": [
    {
     "data": {
      "text/plain": [
       "(93.366, 94.702)"
      ]
     },
     "execution_count": 31,
     "metadata": {},
     "output_type": "execute_result"
    }
   ],
   "source": [
    "oil_series.iloc[:10].mean(), oil_series.iloc[-10:].mean()"
   ]
  },
  {
   "cell_type": "code",
   "execution_count": 33,
   "id": "44aa48a6",
   "metadata": {},
   "outputs": [
    {
     "data": {
      "text/plain": [
       "0    94.27\n",
       "1    93.26\n",
       "2    94.28\n",
       "3    95.49\n",
       "Name: oil_series, dtype: float64"
      ]
     },
     "execution_count": 33,
     "metadata": {},
     "output_type": "execute_result"
    }
   ],
   "source": [
    "oil_series.loc['2017-01-01':'2017-01-07'].reset_index(drop=True)"
   ]
  },
  {
   "cell_type": "markdown",
   "id": "deec0721",
   "metadata": {},
   "source": [
    "# Assignment 3: Sorting and Filtering Series\n",
    "\n",
    "* First, get the 10 lowest prices from the data. \n",
    "* Sort the 10 lowest prices by date, starting with the most recent and ending with the oldest price.\n",
    "\n",
    "* Finally, use the list of provided dates. Select only rows with these dates that had a price of less than 50 dollars per barrel."
   ]
  },
  {
   "cell_type": "code",
   "execution_count": 41,
   "id": "46126b3e",
   "metadata": {},
   "outputs": [],
   "source": [
    "# list of dates to be used to solve bullet 3\n",
    "\n",
    "dates = [\n",
    "    \"2016-12-22\",\n",
    "    \"2017-05-03\",\n",
    "    \"2017-01-06\",\n",
    "    \"2017-03-05\",\n",
    "    \"2017-02-12\",\n",
    "    \"2017-03-21\",\n",
    "    \"2017-04-14\",\n",
    "    \"2017-04-15\",\n",
    "]"
   ]
  },
  {
   "cell_type": "code",
   "execution_count": 39,
   "id": "2eecaa97",
   "metadata": {},
   "outputs": [
    {
     "data": {
      "text/plain": [
       "date\n",
       "2017-04-11    89.21\n",
       "2017-04-10    88.81\n",
       "2017-04-07    88.04\n",
       "2017-04-06    87.83\n",
       "2017-04-05    86.65\n",
       "2017-04-04    88.73\n",
       "2017-04-03    88.75\n",
       "2017-02-23    90.47\n",
       "2017-02-21    90.13\n",
       "2017-02-17    90.71\n",
       "Name: oil_series, dtype: float64"
      ]
     },
     "execution_count": 39,
     "metadata": {},
     "output_type": "execute_result"
    }
   ],
   "source": [
    "oil_series.sort_values().iloc[:10].sort_index(ascending=False)"
   ]
  },
  {
   "cell_type": "code",
   "execution_count": 47,
   "id": "4864ae20",
   "metadata": {},
   "outputs": [
    {
     "data": {
      "text/plain": [
       "date\n",
       "2016-12-22    93.12\n",
       "2017-01-06    95.49\n",
       "2017-03-21    97.23\n",
       "2017-05-03    93.96\n",
       "Name: oil_series, dtype: float64"
      ]
     },
     "execution_count": 47,
     "metadata": {},
     "output_type": "execute_result"
    }
   ],
   "source": [
    "mask = (oil_series.index.isin(dates)) & (oil_series >= 50)\n",
    "oil_series.loc[mask]"
   ]
  },
  {
   "cell_type": "markdown",
   "id": "ce362e59",
   "metadata": {},
   "source": [
    "\n",
    "# Assignment 4: Series Operations\n",
    "\n",
    "* Increase the prices in the oil series by 10%, and add an additional 2 dollars per barrel on top of that.\n",
    "\n",
    "* Then, create a series that represents the difference between each price and max price.\n",
    "\n",
    "* Finally, extract the month from the string dates in the index and store them as an integer in their own series."
   ]
  },
  {
   "cell_type": "code",
   "execution_count": 48,
   "id": "38305859",
   "metadata": {},
   "outputs": [
    {
     "data": {
      "text/plain": [
       "date\n",
       "2016-12-20    93.14\n",
       "2016-12-21    92.97\n",
       "2016-12-22    93.12\n",
       "2016-12-23    93.20\n",
       "2016-12-27    93.21\n",
       "              ...  \n",
       "2017-05-09    96.29\n",
       "2017-05-10    95.55\n",
       "2017-05-11    93.98\n",
       "2017-05-12    94.12\n",
       "2017-05-15    93.84\n",
       "Name: oil_series, Length: 100, dtype: float64"
      ]
     },
     "execution_count": 48,
     "metadata": {},
     "output_type": "execute_result"
    }
   ],
   "source": [
    "oil_series"
   ]
  },
  {
   "cell_type": "code",
   "execution_count": 52,
   "id": "98b673c0",
   "metadata": {},
   "outputs": [
    {
     "data": {
      "text/plain": [
       "date\n",
       "2016-12-20    104.454\n",
       "2016-12-21    104.267\n",
       "2016-12-22    104.432\n",
       "2016-12-23    104.520\n",
       "2016-12-27    104.531\n",
       "               ...   \n",
       "2017-05-09    107.919\n",
       "2017-05-10    107.105\n",
       "2017-05-11    105.378\n",
       "2017-05-12    105.532\n",
       "2017-05-15    105.224\n",
       "Name: oil_series, Length: 100, dtype: float64"
      ]
     },
     "execution_count": 52,
     "metadata": {},
     "output_type": "execute_result"
    }
   ],
   "source": [
    "oil_series.mul(1.1).add(2)"
   ]
  },
  {
   "cell_type": "code",
   "execution_count": 55,
   "id": "0cbd5306",
   "metadata": {},
   "outputs": [
    {
     "data": {
      "text/plain": [
       "date\n",
       "2016-12-20   -0.049398\n",
       "2016-12-21   -0.051133\n",
       "2016-12-22   -0.049602\n",
       "2016-12-23   -0.048785\n",
       "2016-12-27   -0.048683\n",
       "                ...   \n",
       "2017-05-09   -0.017248\n",
       "2017-05-10   -0.024801\n",
       "2017-05-11   -0.040825\n",
       "2017-05-12   -0.039396\n",
       "2017-05-15   -0.042254\n",
       "Name: oil_series, Length: 100, dtype: float64"
      ]
     },
     "execution_count": 55,
     "metadata": {},
     "output_type": "execute_result"
    }
   ],
   "source": [
    "max_price = oil_series.max()\n",
    "(oil_series - max_price) / max_price"
   ]
  },
  {
   "cell_type": "code",
   "execution_count": 61,
   "id": "0836c719",
   "metadata": {},
   "outputs": [
    {
     "data": {
      "text/plain": [
       "0     12\n",
       "1     12\n",
       "2     12\n",
       "3     12\n",
       "4     12\n",
       "      ..\n",
       "95     5\n",
       "96     5\n",
       "97     5\n",
       "98     5\n",
       "99     5\n",
       "Name: date, Length: 100, dtype: int32"
      ]
     },
     "execution_count": 61,
     "metadata": {},
     "output_type": "execute_result"
    }
   ],
   "source": [
    "month = oil_series.index.str[5:7].astype('int')\n",
    "pd.Series(month)"
   ]
  },
  {
   "cell_type": "code",
   "execution_count": null,
   "id": "fb8eac50",
   "metadata": {},
   "outputs": [],
   "source": []
  },
  {
   "cell_type": "markdown",
   "id": "4735ed48",
   "metadata": {},
   "source": [
    "# Assignment 5: Series Aggregations\n",
    "\n",
    "* Calculate the sum and mean of prices in the month of March. \n",
    "\n",
    "* Next, calculate how many prices were recorded in January and February.\n",
    "\n",
    "* Then, calculate the 10th and 90th percentiles across all data.\n",
    "\n",
    "* Finally, how often did integer dollar value (e.g. 51, 52) occur in the data? Normalize this to a percentage.   "
   ]
  },
  {
   "cell_type": "code",
   "execution_count": 64,
   "id": "b7846132",
   "metadata": {},
   "outputs": [
    {
     "data": {
      "text/plain": [
       "2163.14"
      ]
     },
     "execution_count": 64,
     "metadata": {},
     "output_type": "execute_result"
    }
   ],
   "source": [
    "oil_series[oil_series.index.str[6:7] == '3'].sum().round(2)"
   ]
  },
  {
   "cell_type": "code",
   "execution_count": 65,
   "id": "2d0ea594",
   "metadata": {},
   "outputs": [
    {
     "data": {
      "text/plain": [
       "94.0495652173913"
      ]
     },
     "execution_count": 65,
     "metadata": {},
     "output_type": "execute_result"
    }
   ],
   "source": [
    "oil_series[oil_series.index.str[6:7] == '3'].mean()"
   ]
  },
  {
   "cell_type": "code",
   "execution_count": 66,
   "id": "d220d35d",
   "metadata": {},
   "outputs": [
    {
     "data": {
      "text/plain": [
       "47"
      ]
     },
     "execution_count": 66,
     "metadata": {},
     "output_type": "execute_result"
    }
   ],
   "source": [
    "oil_series[oil_series.index.str[6:7].isin(['1', '2'])].count()"
   ]
  },
  {
   "cell_type": "code",
   "execution_count": 67,
   "id": "a5082d8f",
   "metadata": {},
   "outputs": [
    {
     "data": {
      "text/plain": [
       "0.1    90.737\n",
       "0.9    97.012\n",
       "Name: oil_series, dtype: float64"
      ]
     },
     "execution_count": 67,
     "metadata": {},
     "output_type": "execute_result"
    }
   ],
   "source": [
    "oil_series.quantile([0.1, 0.9])"
   ]
  },
  {
   "cell_type": "code",
   "execution_count": 69,
   "id": "fdbd3f03",
   "metadata": {},
   "outputs": [
    {
     "data": {
      "text/plain": [
       "oil_series\n",
       "93    24\n",
       "95    17\n",
       "92    14\n",
       "97    11\n",
       "94    10\n",
       "96     9\n",
       "90     5\n",
       "88     4\n",
       "91     3\n",
       "86     1\n",
       "87     1\n",
       "89     1\n",
       "Name: count, dtype: int64"
      ]
     },
     "execution_count": 69,
     "metadata": {},
     "output_type": "execute_result"
    }
   ],
   "source": [
    "oil_series.astype('int').value_counts()"
   ]
  },
  {
   "cell_type": "markdown",
   "id": "b81e8ab9",
   "metadata": {},
   "source": [
    "# Assignment 6: Missing Data\n",
    "\n",
    "There were some erroneous prices in our data, so they were filled in with missing values.\n",
    "\n",
    "Can you confirm the number of missing values in the price column? \n",
    "\n",
    "Once you’ve done that, fill the prices in with the median of the oil price series.\n"
   ]
  },
  {
   "cell_type": "code",
   "execution_count": 72,
   "id": "6d5fdec5",
   "metadata": {
    "scrolled": true
   },
   "outputs": [],
   "source": [
    "# Fill in two values with missing data\n",
    "\n",
    "oil_series = oil_series.where(~oil_series.isin([51.44, 47.83]), pd.NA)"
   ]
  },
  {
   "cell_type": "code",
   "execution_count": 73,
   "id": "4c9fc3a5",
   "metadata": {},
   "outputs": [
    {
     "data": {
      "text/plain": [
       "date\n",
       "2016-12-20    93.14\n",
       "2016-12-21    92.97\n",
       "2016-12-22    93.12\n",
       "2016-12-23    93.20\n",
       "2016-12-27    93.21\n",
       "              ...  \n",
       "2017-05-09    96.29\n",
       "2017-05-10    95.55\n",
       "2017-05-11    93.98\n",
       "2017-05-12    94.12\n",
       "2017-05-15    93.84\n",
       "Name: oil_series, Length: 100, dtype: float64"
      ]
     },
     "execution_count": 73,
     "metadata": {},
     "output_type": "execute_result"
    }
   ],
   "source": [
    "oil_series"
   ]
  },
  {
   "cell_type": "code",
   "execution_count": 74,
   "id": "1ec16104",
   "metadata": {
    "scrolled": true
   },
   "outputs": [
    {
     "data": {
      "text/plain": [
       "0"
      ]
     },
     "execution_count": 74,
     "metadata": {},
     "output_type": "execute_result"
    }
   ],
   "source": [
    "\n",
    "oil_series.isna().sum()"
   ]
  },
  {
   "cell_type": "code",
   "execution_count": 75,
   "id": "860c1fe3-fd21-4044-ba6e-82bc4446d201",
   "metadata": {},
   "outputs": [
    {
     "data": {
      "text/plain": [
       "date\n",
       "2016-12-20    93.14\n",
       "2016-12-21    92.97\n",
       "2016-12-22    93.12\n",
       "2016-12-23    93.20\n",
       "2016-12-27    93.21\n",
       "              ...  \n",
       "2017-05-09    96.29\n",
       "2017-05-10    95.55\n",
       "2017-05-11    93.98\n",
       "2017-05-12    94.12\n",
       "2017-05-15    93.84\n",
       "Name: oil_series, Length: 100, dtype: float64"
      ]
     },
     "execution_count": 75,
     "metadata": {},
     "output_type": "execute_result"
    }
   ],
   "source": [
    "\n",
    "oil_series.fillna(oil_series.median())"
   ]
  },
  {
   "cell_type": "markdown",
   "id": "19a0e70c",
   "metadata": {},
   "source": [
    "# Exercise 7: Apply and Where\n",
    "\n",
    "Write a function that outputs ‘buy’ if price is less than the 90th percentile and ‘wait’ if it’s not. Apply it to the oil series.\n",
    "\n",
    "Then, create a series that multiplies price by .9 if the date is ‘2016-12-23’ or ‘2017-05-10’, and 1.1 for all other dates. "
   ]
  },
  {
   "cell_type": "code",
   "execution_count": 76,
   "id": "e508687c",
   "metadata": {},
   "outputs": [
    {
     "data": {
      "text/plain": [
       "date\n",
       "2016-12-20    93.14\n",
       "2016-12-21    92.97\n",
       "2016-12-22    93.12\n",
       "2016-12-23    93.20\n",
       "2016-12-27    93.21\n",
       "              ...  \n",
       "2017-05-09    96.29\n",
       "2017-05-10    95.55\n",
       "2017-05-11    93.98\n",
       "2017-05-12    94.12\n",
       "2017-05-15    93.84\n",
       "Name: oil_series, Length: 100, dtype: float64"
      ]
     },
     "execution_count": 76,
     "metadata": {},
     "output_type": "execute_result"
    }
   ],
   "source": [
    "oil_series = oil_series.where(~oil_series.isin([51,44,47,83]), np.NaN)\n",
    "oil_series"
   ]
  },
  {
   "cell_type": "code",
   "execution_count": 77,
   "id": "3496ec24",
   "metadata": {},
   "outputs": [],
   "source": [
    "def buy_bool(price, limit):\n",
    "    if price < limit:\n",
    "        return 'Buy'\n",
    "    return 'Wait'"
   ]
  },
  {
   "cell_type": "code",
   "execution_count": 78,
   "id": "feab5b7d",
   "metadata": {},
   "outputs": [
    {
     "data": {
      "text/plain": [
       "date\n",
       "2016-12-20    Buy\n",
       "2016-12-21    Buy\n",
       "2016-12-22    Buy\n",
       "2016-12-23    Buy\n",
       "2016-12-27    Buy\n",
       "             ... \n",
       "2017-05-09    Buy\n",
       "2017-05-10    Buy\n",
       "2017-05-11    Buy\n",
       "2017-05-12    Buy\n",
       "2017-05-15    Buy\n",
       "Name: oil_series, Length: 100, dtype: object"
      ]
     },
     "execution_count": 78,
     "metadata": {},
     "output_type": "execute_result"
    }
   ],
   "source": [
    "oil_series.apply(buy_bool, args=(oil_series.quantile(.9),))"
   ]
  },
  {
   "cell_type": "code",
   "execution_count": 79,
   "id": "6e9ec561",
   "metadata": {},
   "outputs": [
    {
     "data": {
      "text/plain": [
       "97.012"
      ]
     },
     "execution_count": 79,
     "metadata": {},
     "output_type": "execute_result"
    }
   ],
   "source": [
    "oil_series.quantile(.9)"
   ]
  },
  {
   "cell_type": "code",
   "execution_count": 80,
   "id": "fbaa1941-ce18-400d-8ae9-ef74d7e41ac4",
   "metadata": {},
   "outputs": [
    {
     "data": {
      "text/plain": [
       "date\n",
       "2016-12-20    Buy\n",
       "2016-12-21    Buy\n",
       "2016-12-22    Buy\n",
       "2016-12-23    Buy\n",
       "2016-12-27    Buy\n",
       "             ... \n",
       "2017-05-09    Buy\n",
       "2017-05-10    Buy\n",
       "2017-05-11    Buy\n",
       "2017-05-12    Buy\n",
       "2017-05-15    Buy\n",
       "Name: oil_series, Length: 100, dtype: object"
      ]
     },
     "execution_count": 80,
     "metadata": {},
     "output_type": "execute_result"
    }
   ],
   "source": [
    "oil_series.apply(lambda x: 'Buy' if x < oil_series.quantile(.9) else 'wait')"
   ]
  },
  {
   "cell_type": "code",
   "execution_count": 82,
   "id": "2adbd0de-832b-4c97-83da-85e631740d02",
   "metadata": {},
   "outputs": [
    {
     "data": {
      "text/plain": [
       "array([102.454, 102.267, 102.432,  83.88 , 102.531, 102.388, 103.191,\n",
       "       102.96 , 103.697, 102.586, 103.708, 105.039, 105.171, 105.699,\n",
       "       104.566, 104.885, 104.665, 105.545, 107.382, 107.778, 107.415,\n",
       "       107.206, 105.831, 106.348, 106.084, 105.424, 105.281, 106.711,\n",
       "       107.228, 106.733, 107.03 , 105.545, 106.359, 104.412, 102.069,\n",
       "       102.432, 102.014, 101.893, 102.124, 101.233,  99.781,  99.143,\n",
       "        99.968,  99.517, 100.683, 101.211, 101.277, 101.684, 101.717,\n",
       "       102.333, 102.839, 103.081, 101.684, 102.531, 101.706, 102.751,\n",
       "       104.005, 105.589, 106.183, 106.964, 106.81 , 106.953, 104.522,\n",
       "       102.586, 102.036, 102.696, 103.598, 104.049, 102.784, 100.353,\n",
       "        97.625,  97.603,  95.315,  96.613,  96.844,  97.691,  98.131,\n",
       "       100.177, 102.597, 101.893, 103.499, 102.542,  99.814, 103.07 ,\n",
       "       104.775, 105.38 , 104.808, 105.864, 105.699, 105.391, 104.236,\n",
       "       103.356, 103.345, 104.335, 105.292, 105.919,  85.995, 103.378,\n",
       "       103.532, 103.224])"
      ]
     },
     "execution_count": 82,
     "metadata": {},
     "output_type": "execute_result"
    }
   ],
   "source": [
    "np.where(oil_series.index.isin(['2016-12-23', '2017-05-10']), oil_series * .9, oil_series * 1.1)"
   ]
  },
  {
   "cell_type": "code",
   "execution_count": null,
   "id": "e49ed8ac-8630-42e8-b78a-84ef22d96dbc",
   "metadata": {},
   "outputs": [],
   "source": []
  }
 ],
 "metadata": {
  "kernelspec": {
   "display_name": "Python 3 (ipykernel)",
   "language": "python",
   "name": "python3"
  },
  "language_info": {
   "codemirror_mode": {
    "name": "ipython",
    "version": 3
   },
   "file_extension": ".py",
   "mimetype": "text/x-python",
   "name": "python",
   "nbconvert_exporter": "python",
   "pygments_lexer": "ipython3",
   "version": "3.11.4"
  }
 },
 "nbformat": 4,
 "nbformat_minor": 5
}
