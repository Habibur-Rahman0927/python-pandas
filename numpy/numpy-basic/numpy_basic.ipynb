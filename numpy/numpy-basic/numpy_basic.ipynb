{
 "cells": [
  {
   "cell_type": "code",
   "execution_count": 3,
   "id": "1d94ef6d-888d-48b1-a0dd-5a96fe9d0420",
   "metadata": {},
   "outputs": [],
   "source": [
    "import numpy as np"
   ]
  },
  {
   "cell_type": "markdown",
   "id": "9516ddc4-048b-446e-8781-d827c6dcf809",
   "metadata": {},
   "source": [
    "# Basic numpy"
   ]
  },
  {
   "cell_type": "code",
   "execution_count": 5,
   "id": "89df33ed-b023-41e9-b0d4-31c44092877e",
   "metadata": {},
   "outputs": [
    {
     "data": {
      "text/plain": [
       "array([0, 1, 2, 3, 4])"
      ]
     },
     "execution_count": 5,
     "metadata": {},
     "output_type": "execute_result"
    }
   ],
   "source": [
    "array = np.array(range(5))\n",
    "array"
   ]
  },
  {
   "cell_type": "code",
   "execution_count": 7,
   "id": "f19c23c7-cdcf-4d0b-a59c-9d1e48fd3440",
   "metadata": {},
   "outputs": [
    {
     "data": {
      "text/plain": [
       "array([[0, 1, 2, 3, 4],\n",
       "       [0, 1, 2, 3, 4]])"
      ]
     },
     "execution_count": 7,
     "metadata": {},
     "output_type": "execute_result"
    }
   ],
   "source": [
    "array_2d = np.array([range(5), range(5)])\n",
    "array_2d"
   ]
  },
  {
   "cell_type": "code",
   "execution_count": 10,
   "id": "6ddd27d0-5260-4b92-8035-7937e5b0fdf8",
   "metadata": {},
   "outputs": [
    {
     "data": {
      "text/plain": [
       "((5,), 5)"
      ]
     },
     "execution_count": 10,
     "metadata": {},
     "output_type": "execute_result"
    }
   ],
   "source": [
    "array.shape, array.size"
   ]
  },
  {
   "cell_type": "code",
   "execution_count": 11,
   "id": "4d8b04c4-5f68-49b8-9950-970b456741fe",
   "metadata": {},
   "outputs": [
    {
     "data": {
      "text/plain": [
       "((2, 5), 10)"
      ]
     },
     "execution_count": 11,
     "metadata": {},
     "output_type": "execute_result"
    }
   ],
   "source": [
    "array_2d.shape, array_2d.size"
   ]
  },
  {
   "cell_type": "code",
   "execution_count": 12,
   "id": "d13f8589-8cb4-480e-b5f4-2d74b94311aa",
   "metadata": {},
   "outputs": [
    {
     "data": {
      "text/plain": [
       "array([[0, 0],\n",
       "       [1, 1],\n",
       "       [2, 2],\n",
       "       [3, 3],\n",
       "       [4, 4]])"
      ]
     },
     "execution_count": 12,
     "metadata": {},
     "output_type": "execute_result"
    }
   ],
   "source": [
    "array_2d.T"
   ]
  },
  {
   "cell_type": "code",
   "execution_count": 13,
   "id": "cb5f4a5d-cf81-47f9-bbbe-28a48e411560",
   "metadata": {},
   "outputs": [
    {
     "data": {
      "text/plain": [
       "2"
      ]
     },
     "execution_count": 13,
     "metadata": {},
     "output_type": "execute_result"
    }
   ],
   "source": [
    "array_2d.ndim"
   ]
  },
  {
   "cell_type": "code",
   "execution_count": 14,
   "id": "6b68f57e-6bea-48c2-943f-35b2da13d050",
   "metadata": {},
   "outputs": [
    {
     "data": {
      "text/plain": [
       "dtype('int32')"
      ]
     },
     "execution_count": 14,
     "metadata": {},
     "output_type": "execute_result"
    }
   ],
   "source": [
    "array_2d.dtype"
   ]
  },
  {
   "cell_type": "markdown",
   "id": "480a127b-10cb-4b18-b036-9d05785c240f",
   "metadata": {},
   "source": [
    "# Array Creation"
   ]
  },
  {
   "cell_type": "code",
   "execution_count": 17,
   "id": "0c476302-3cb1-4ff3-8f0e-0f3f0475815e",
   "metadata": {},
   "outputs": [
    {
     "data": {
      "text/plain": [
       "array([1., 1., 1., 1., 1.])"
      ]
     },
     "execution_count": 17,
     "metadata": {},
     "output_type": "execute_result"
    }
   ],
   "source": [
    "np.ones(5)"
   ]
  },
  {
   "cell_type": "code",
   "execution_count": 18,
   "id": "70711790-7394-46b9-9307-3b3f5bd0e17a",
   "metadata": {},
   "outputs": [
    {
     "data": {
      "text/plain": [
       "array([1, 1, 1])"
      ]
     },
     "execution_count": 18,
     "metadata": {},
     "output_type": "execute_result"
    }
   ],
   "source": [
    "np.ones(3, dtype='int')"
   ]
  },
  {
   "cell_type": "code",
   "execution_count": 20,
   "id": "ba831ac8-8b75-446e-88f6-4ecce4020bb3",
   "metadata": {},
   "outputs": [
    {
     "data": {
      "text/plain": [
       "(array([0, 0, 0, 0, 0, 0, 0, 0, 0, 0]), array([0., 0., 0., 0., 0.]))"
      ]
     },
     "execution_count": 20,
     "metadata": {},
     "output_type": "execute_result"
    }
   ],
   "source": [
    "np.zeros(10, 'int'), np.zeros(5)"
   ]
  },
  {
   "cell_type": "code",
   "execution_count": 26,
   "id": "63bc5f08-d9e1-48fb-8960-674684e116fe",
   "metadata": {},
   "outputs": [
    {
     "data": {
      "text/plain": [
       "array([[0., 0., 0., 0., 0., 0., 0., 0., 0., 0.],\n",
       "       [0., 0., 0., 0., 0., 0., 0., 0., 0., 0.],\n",
       "       [0., 0., 0., 0., 0., 0., 0., 0., 0., 0.],\n",
       "       [0., 0., 0., 0., 0., 0., 0., 0., 0., 0.],\n",
       "       [0., 0., 0., 0., 0., 0., 0., 0., 0., 0.],\n",
       "       [0., 0., 0., 0., 0., 0., 0., 0., 0., 0.],\n",
       "       [0., 0., 0., 0., 0., 0., 0., 0., 0., 0.],\n",
       "       [0., 0., 0., 0., 0., 0., 0., 0., 0., 0.],\n",
       "       [0., 0., 0., 0., 0., 0., 0., 0., 0., 0.],\n",
       "       [0., 0., 0., 0., 0., 0., 0., 0., 0., 0.]])"
      ]
     },
     "execution_count": 26,
     "metadata": {},
     "output_type": "execute_result"
    }
   ],
   "source": [
    "np.zeros(100).reshape(10, 10)"
   ]
  },
  {
   "cell_type": "code",
   "execution_count": 28,
   "id": "3bd9fe15-d810-4151-88c0-6bdda47d04ea",
   "metadata": {},
   "outputs": [
    {
     "data": {
      "text/plain": [
       "array([[0., 0., 0., 0., 0., 0., 0., 0., 0., 0.],\n",
       "       [0., 0., 0., 0., 0., 0., 0., 0., 0., 0.],\n",
       "       [0., 0., 0., 0., 0., 0., 0., 0., 0., 0.],\n",
       "       [0., 0., 0., 0., 0., 0., 0., 0., 0., 0.],\n",
       "       [0., 0., 0., 0., 0., 0., 0., 0., 0., 0.],\n",
       "       [0., 0., 0., 0., 0., 0., 0., 0., 0., 0.],\n",
       "       [0., 0., 0., 0., 0., 0., 0., 0., 0., 0.],\n",
       "       [0., 0., 0., 0., 0., 0., 0., 0., 0., 0.],\n",
       "       [0., 0., 0., 0., 0., 0., 0., 0., 0., 0.],\n",
       "       [0., 0., 0., 0., 0., 0., 0., 0., 0., 0.]])"
      ]
     },
     "execution_count": 28,
     "metadata": {},
     "output_type": "execute_result"
    }
   ],
   "source": [
    "np.zeros((10,10))"
   ]
  },
  {
   "cell_type": "code",
   "execution_count": 29,
   "id": "5b409ca7-9d90-4a8b-a2a0-cbba0a7c6408",
   "metadata": {},
   "outputs": [
    {
     "data": {
      "text/plain": [
       "array([0., 0., 0., 0., 0., 0., 0., 0., 0., 0., 0., 0., 0., 0., 0., 0., 0.,\n",
       "       0., 0., 0., 0., 0., 0., 0., 0., 0., 0., 0., 0., 0., 0., 0., 0., 0.,\n",
       "       0., 0., 0., 0., 0., 0., 0., 0., 0., 0., 0., 0., 0., 0., 0., 0., 0.,\n",
       "       0., 0., 0., 0., 0., 0., 0., 0., 0., 0., 0., 0., 0., 0., 0., 0., 0.,\n",
       "       0., 0., 0., 0., 0., 0., 0., 0., 0., 0., 0., 0., 0., 0., 0., 0., 0.,\n",
       "       0., 0., 0., 0., 0., 0., 0., 0., 0., 0., 0., 0., 0., 0., 0.])"
      ]
     },
     "execution_count": 29,
     "metadata": {},
     "output_type": "execute_result"
    }
   ],
   "source": [
    "np.zeros(100).T"
   ]
  },
  {
   "cell_type": "code",
   "execution_count": 31,
   "id": "378360fd-0dbe-489d-9373-5b71f81cdebb",
   "metadata": {},
   "outputs": [
    {
     "data": {
      "text/plain": [
       "array([[1., 0., 0., 0., 0., 0., 0., 0., 0., 0.],\n",
       "       [0., 1., 0., 0., 0., 0., 0., 0., 0., 0.],\n",
       "       [0., 0., 1., 0., 0., 0., 0., 0., 0., 0.],\n",
       "       [0., 0., 0., 1., 0., 0., 0., 0., 0., 0.],\n",
       "       [0., 0., 0., 0., 1., 0., 0., 0., 0., 0.],\n",
       "       [0., 0., 0., 0., 0., 1., 0., 0., 0., 0.],\n",
       "       [0., 0., 0., 0., 0., 0., 1., 0., 0., 0.],\n",
       "       [0., 0., 0., 0., 0., 0., 0., 1., 0., 0.],\n",
       "       [0., 0., 0., 0., 0., 0., 0., 0., 1., 0.],\n",
       "       [0., 0., 0., 0., 0., 0., 0., 0., 0., 1.]])"
      ]
     },
     "execution_count": 31,
     "metadata": {},
     "output_type": "execute_result"
    }
   ],
   "source": [
    "np.identity(10).T"
   ]
  },
  {
   "cell_type": "code",
   "execution_count": 36,
   "id": "c4968347-cd04-4629-ab0b-310f77f53dec",
   "metadata": {},
   "outputs": [
    {
     "data": {
      "text/plain": [
       "array([[4, 5, 6],\n",
       "       [7, 8, 9]])"
      ]
     },
     "execution_count": 36,
     "metadata": {},
     "output_type": "execute_result"
    }
   ],
   "source": [
    "np.arange(4,10).reshape(2,3)"
   ]
  },
  {
   "cell_type": "code",
   "execution_count": 37,
   "id": "894847a6-0c36-478b-8e7a-83f0a830ad57",
   "metadata": {},
   "outputs": [
    {
     "data": {
      "text/plain": [
       "array([  0.,  10.,  20.,  30.,  40.,  50.,  60.,  70.,  80.,  90., 100.])"
      ]
     },
     "execution_count": 37,
     "metadata": {},
     "output_type": "execute_result"
    }
   ],
   "source": [
    "np.linspace(0, 100, 11)"
   ]
  },
  {
   "cell_type": "code",
   "execution_count": 38,
   "id": "82707521-bff1-4b49-b7fc-4316d0ad01fb",
   "metadata": {},
   "outputs": [
    {
     "data": {
      "text/plain": [
       "array([0. , 0.1, 0.2, 0.3, 0.4, 0.5, 0.6, 0.7, 0.8, 0.9, 1. ])"
      ]
     },
     "execution_count": 38,
     "metadata": {},
     "output_type": "execute_result"
    }
   ],
   "source": [
    "np.linspace(0, 1, 11)"
   ]
  },
  {
   "cell_type": "code",
   "execution_count": 39,
   "id": "697bfd7b-8640-4eeb-93d0-ba6fc648cb5f",
   "metadata": {},
   "outputs": [
    {
     "data": {
      "text/plain": [
       "array([ 0.,  8., 16., 24., 32., 40., 48., 56., 64.])"
      ]
     },
     "execution_count": 39,
     "metadata": {},
     "output_type": "execute_result"
    }
   ],
   "source": [
    "np.linspace(0, 64, 9)"
   ]
  },
  {
   "cell_type": "code",
   "execution_count": 40,
   "id": "651770e5-c156-4f2c-94da-fae38fd38f8e",
   "metadata": {},
   "outputs": [
    {
     "data": {
      "text/plain": [
       "array([0.39682145, 0.86568572, 0.46040359, 0.30599848, 0.57381588,\n",
       "       0.08888468, 0.88194347, 0.73228387, 0.73215182, 0.56233394])"
      ]
     },
     "execution_count": 40,
     "metadata": {},
     "output_type": "execute_result"
    }
   ],
   "source": [
    "rng = np.random.default_rng(616)\n",
    "rng.random(10)"
   ]
  },
  {
   "cell_type": "code",
   "execution_count": 41,
   "id": "5960ff42-8500-4b80-b3d3-84178c1f50dd",
   "metadata": {},
   "outputs": [
    {
     "data": {
      "text/plain": [
       "array([8, 3, 6, 0, 3, 3, 1, 2, 2, 4, 9, 1, 2, 5, 1, 8, 9, 0, 3, 1, 5, 8,\n",
       "       0, 6, 1, 7, 0, 7, 6, 0, 3, 7, 1, 9, 4, 1, 6, 1, 4, 4, 9, 5, 3, 4,\n",
       "       7, 8, 3, 3, 5, 0, 4, 9, 9, 5, 6, 5, 8, 2, 3, 0, 0, 8, 3, 8, 4, 8,\n",
       "       8, 9, 7, 3, 8, 4, 9, 2, 6, 3, 0, 3, 2, 0, 0, 4, 9, 5, 4, 1, 8, 2,\n",
       "       7, 7, 1, 2, 2, 4, 1, 6, 7, 3, 7, 5], dtype=int64)"
      ]
     },
     "execution_count": 41,
     "metadata": {},
     "output_type": "execute_result"
    }
   ],
   "source": [
    "rng.integers(0, 10, 100)"
   ]
  },
  {
   "cell_type": "code",
   "execution_count": 45,
   "id": "9ca9fce7-963a-42be-80f6-d6dc08644d00",
   "metadata": {},
   "outputs": [
    {
     "data": {
      "text/plain": [
       "array([52.25262979, 34.89871733, 50.04636339, 54.75435288, 46.63652381,\n",
       "       47.14524632, 50.03410402, 54.40609916, 49.25652665, 49.64212054,\n",
       "       42.13950534, 52.14619496, 54.22875965, 44.8339284 , 47.78071839,\n",
       "       52.00105724, 45.10265766, 54.64293619, 53.45816403])"
      ]
     },
     "execution_count": 45,
     "metadata": {},
     "output_type": "execute_result"
    }
   ],
   "source": [
    "rng.normal(50, 5, 19)"
   ]
  },
  {
   "cell_type": "markdown",
   "id": "4c8c0e69-8983-43f2-a137-7a2427683cb0",
   "metadata": {},
   "source": [
    "# Indexing"
   ]
  },
  {
   "cell_type": "code",
   "execution_count": 48,
   "id": "3515f833-2bc2-447f-a5b7-dca8d7213d14",
   "metadata": {},
   "outputs": [
    {
     "data": {
      "text/plain": [
       "array([ 0,  1,  2,  3,  4,  5,  6,  7,  8,  9, 10, 11])"
      ]
     },
     "execution_count": 48,
     "metadata": {},
     "output_type": "execute_result"
    }
   ],
   "source": [
    "integer_array = np.arange(12)\n",
    "integer_array"
   ]
  },
  {
   "cell_type": "code",
   "execution_count": 49,
   "id": "74c32239-d6f3-49bd-bc6d-d8c3b0e3d357",
   "metadata": {},
   "outputs": [
    {
     "data": {
      "text/plain": [
       "0"
      ]
     },
     "execution_count": 49,
     "metadata": {},
     "output_type": "execute_result"
    }
   ],
   "source": [
    "integer_array[0]"
   ]
  },
  {
   "cell_type": "code",
   "execution_count": 50,
   "id": "9531853e-2be3-4fd4-9483-c585ff06dab5",
   "metadata": {},
   "outputs": [
    {
     "data": {
      "text/plain": [
       "11"
      ]
     },
     "execution_count": 50,
     "metadata": {},
     "output_type": "execute_result"
    }
   ],
   "source": [
    "integer_array[-1]"
   ]
  },
  {
   "cell_type": "code",
   "execution_count": 53,
   "id": "77f1909c-586a-4245-8a8a-18396b41a9af",
   "metadata": {},
   "outputs": [
    {
     "data": {
      "text/plain": [
       "array([[ 0,  1,  2,  3],\n",
       "       [ 4,  5,  6,  7],\n",
       "       [ 8,  9, 10, 11]])"
      ]
     },
     "execution_count": 53,
     "metadata": {},
     "output_type": "execute_result"
    }
   ],
   "source": [
    "new_array = integer_array.reshape(3,4)\n",
    "new_array"
   ]
  },
  {
   "cell_type": "code",
   "execution_count": 54,
   "id": "85c0e3d1-4f90-424e-b4dc-6b5841566883",
   "metadata": {},
   "outputs": [
    {
     "data": {
      "text/plain": [
       "array([[ 0,  1,  2,  3],\n",
       "       [ 4,  5,  6,  7],\n",
       "       [ 8,  9, 10, 11]])"
      ]
     },
     "execution_count": 54,
     "metadata": {},
     "output_type": "execute_result"
    }
   ],
   "source": [
    "new_array[:,:]"
   ]
  },
  {
   "cell_type": "code",
   "execution_count": 58,
   "id": "a700cda7-2f67-4ab1-a4d8-a2ab6124ace0",
   "metadata": {},
   "outputs": [
    {
     "data": {
      "text/plain": [
       "array([[ 5,  6],\n",
       "       [ 9, 10]])"
      ]
     },
     "execution_count": 58,
     "metadata": {},
     "output_type": "execute_result"
    }
   ],
   "source": [
    "new_array[1:,1:3]"
   ]
  },
  {
   "cell_type": "code",
   "execution_count": 59,
   "id": "371242ab-bea2-40fc-b882-ef867eb0bd0b",
   "metadata": {},
   "outputs": [
    {
     "data": {
      "text/plain": [
       "array([[ 0,  1,  2,  3],\n",
       "       [ 4,  5,  6,  7],\n",
       "       [ 8,  9, 10, 11]])"
      ]
     },
     "execution_count": 59,
     "metadata": {},
     "output_type": "execute_result"
    }
   ],
   "source": [
    "new_array"
   ]
  },
  {
   "cell_type": "code",
   "execution_count": 60,
   "id": "31a14766-fd70-41af-a5b7-a4ff4aa972f7",
   "metadata": {},
   "outputs": [
    {
     "data": {
      "text/plain": [
       "9"
      ]
     },
     "execution_count": 60,
     "metadata": {},
     "output_type": "execute_result"
    }
   ],
   "source": [
    "new_array[2,1]"
   ]
  },
  {
   "cell_type": "markdown",
   "id": "b2501a60-3810-4775-9068-c1fc014c9e5b",
   "metadata": {},
   "source": [
    "# Array Operations"
   ]
  },
  {
   "cell_type": "code",
   "execution_count": 61,
   "id": "5e777b3b-9c6b-4da5-b0f1-3add9f880825",
   "metadata": {},
   "outputs": [
    {
     "data": {
      "text/plain": [
       "array([39, 39, 93, 86, 48, 46, 48, 30, 11, 57], dtype=int64)"
      ]
     },
     "execution_count": 61,
     "metadata": {},
     "output_type": "execute_result"
    }
   ],
   "source": [
    "rng = np.random.default_rng(616)\n",
    "inventory = rng.integers(0, 100, 10)\n",
    "inventory"
   ]
  },
  {
   "cell_type": "code",
   "execution_count": 62,
   "id": "3d7deae5-a567-4600-a53a-22d15de42fab",
   "metadata": {},
   "outputs": [
    {
     "data": {
      "text/plain": [
       "array([ 15,  15,  69,  62,  24,  22,  24,   6, -13,  33], dtype=int64)"
      ]
     },
     "execution_count": 62,
     "metadata": {},
     "output_type": "execute_result"
    }
   ],
   "source": [
    "inventory - 24"
   ]
  },
  {
   "cell_type": "code",
   "execution_count": 63,
   "id": "634e63ae-5732-41e9-b7e3-acdceb3a8cea",
   "metadata": {},
   "outputs": [
    {
     "data": {
      "text/plain": [
       "array([19.5, 19.5, 46.5, 43. , 24. , 23. , 24. , 15. ,  5.5, 28.5])"
      ]
     },
     "execution_count": 63,
     "metadata": {},
     "output_type": "execute_result"
    }
   ],
   "source": [
    "inventory/2"
   ]
  },
  {
   "cell_type": "code",
   "execution_count": 65,
   "id": "881bf77d-1a26-489e-aac1-d181adada3db",
   "metadata": {},
   "outputs": [
    {
     "data": {
      "text/plain": [
       "array([5.24, 8.02, 0.75, 1.51, 8.97, 6.63, 7.26, 7.66, 0.3 , 7.78])"
      ]
     },
     "execution_count": 65,
     "metadata": {},
     "output_type": "execute_result"
    }
   ],
   "source": [
    "price = (rng.random(10) * 10).round(2)\n",
    "price"
   ]
  },
  {
   "cell_type": "code",
   "execution_count": 67,
   "id": "5fd95a2f-5512-47bc-add7-113ca5351f3a",
   "metadata": {},
   "outputs": [
    {
     "data": {
      "text/plain": [
       "2477.33"
      ]
     },
     "execution_count": 67,
     "metadata": {},
     "output_type": "execute_result"
    }
   ],
   "source": [
    "(inventory * price).sum()"
   ]
  },
  {
   "cell_type": "code",
   "execution_count": 69,
   "id": "29a6f92f-fbc5-4b8c-a603-27b351d1967a",
   "metadata": {},
   "outputs": [
    {
     "data": {
      "text/plain": [
       "[39, 39, 93, 86, 48, 46, 48, 30, 11, 57]"
      ]
     },
     "execution_count": 69,
     "metadata": {},
     "output_type": "execute_result"
    }
   ],
   "source": [
    "inventory_list = list(inventory)\n",
    "inventory_list"
   ]
  },
  {
   "cell_type": "code",
   "execution_count": 72,
   "id": "22908e28-eab6-46e3-9dce-195d377f9def",
   "metadata": {},
   "outputs": [
    {
     "data": {
      "text/plain": [
       "[41, 41, 95, 88, 50, 48, 50, 32, 13, 59]"
      ]
     },
     "execution_count": 72,
     "metadata": {},
     "output_type": "execute_result"
    }
   ],
   "source": [
    "[x + 2 for x in inventory_list]"
   ]
  },
  {
   "cell_type": "code",
   "execution_count": 73,
   "id": "e09ef00b-222e-4a7f-bddb-6850c86dc62f",
   "metadata": {},
   "outputs": [
    {
     "data": {
      "text/plain": [
       "[204.36,\n",
       " 312.78,\n",
       " 69.75,\n",
       " 129.86,\n",
       " 430.56000000000006,\n",
       " 304.98,\n",
       " 348.48,\n",
       " 229.8,\n",
       " 3.3,\n",
       " 443.46000000000004]"
      ]
     },
     "execution_count": 73,
     "metadata": {},
     "output_type": "execute_result"
    }
   ],
   "source": [
    "[x * y for x, y in zip(inventory, price)]"
   ]
  },
  {
   "cell_type": "markdown",
   "id": "f2c44876-4123-4669-aa98-50ef8883858b",
   "metadata": {},
   "source": [
    "# Filtering Array"
   ]
  },
  {
   "cell_type": "code",
   "execution_count": 75,
   "id": "6fcf85f9-6980-4ebb-aea4-711c0be18954",
   "metadata": {},
   "outputs": [
    {
     "data": {
      "text/plain": [
       "array([ 0,  1,  2,  3,  4,  5,  6,  7,  8,  9, 10, 11, 12, 13, 14, 15, 16,\n",
       "       17, 18, 19])"
      ]
     },
     "execution_count": 75,
     "metadata": {},
     "output_type": "execute_result"
    }
   ],
   "source": [
    "my_array = np.arange(20)\n",
    "my_array"
   ]
  },
  {
   "cell_type": "code",
   "execution_count": 76,
   "id": "c85c7335-21b3-4eb7-b385-5c281048e64e",
   "metadata": {},
   "outputs": [
    {
     "data": {
      "text/plain": [
       "array([ True, False,  True, False,  True, False,  True, False,  True,\n",
       "       False,  True, False,  True, False,  True, False,  True, False,\n",
       "        True, False])"
      ]
     },
     "execution_count": 76,
     "metadata": {},
     "output_type": "execute_result"
    }
   ],
   "source": [
    "my_array % 2 == 0"
   ]
  },
  {
   "cell_type": "code",
   "execution_count": 77,
   "id": "27ae6ead-9ade-4a8b-8453-418bdfd917ab",
   "metadata": {},
   "outputs": [
    {
     "data": {
      "text/plain": [
       "array([ 0,  2,  4,  6,  8, 10, 12, 14, 16, 18])"
      ]
     },
     "execution_count": 77,
     "metadata": {},
     "output_type": "execute_result"
    }
   ],
   "source": [
    "my_array[my_array % 2 == 0]"
   ]
  },
  {
   "cell_type": "code",
   "execution_count": 80,
   "id": "70fe6278-b953-4262-8c4a-66592dd8038c",
   "metadata": {},
   "outputs": [
    {
     "data": {
      "text/plain": [
       "array(['even', 'odd', 'even', 'odd', 'even', 'odd', 'even', 'odd', 'even',\n",
       "       'odd', 'even', 'odd', 'even', 'odd', 'even', 'odd', 'even', 'odd',\n",
       "       'even', 'odd'], dtype='<U4')"
      ]
     },
     "execution_count": 80,
     "metadata": {},
     "output_type": "execute_result"
    }
   ],
   "source": [
    "even_odd = np.array(['even', 'odd']*10)\n",
    "even_odd"
   ]
  },
  {
   "cell_type": "code",
   "execution_count": 83,
   "id": "125fe11d-43c2-4934-8a64-ea3144518541",
   "metadata": {},
   "outputs": [
    {
     "data": {
      "text/plain": [
       "array([ True, False,  True, False,  True, False,  True, False,  True,\n",
       "       False,  True, False,  True, False,  True, False,  True, False,\n",
       "        True, False])"
      ]
     },
     "execution_count": 83,
     "metadata": {},
     "output_type": "execute_result"
    }
   ],
   "source": [
    "even_odd != 'odd'"
   ]
  },
  {
   "cell_type": "code",
   "execution_count": 84,
   "id": "f459e527-d58a-444c-860b-6677cbe561f1",
   "metadata": {},
   "outputs": [
    {
     "data": {
      "text/plain": [
       "array(['even', 'even', 'even', 'even', 'even', 'even', 'even', 'even',\n",
       "       'even', 'even'], dtype='<U4')"
      ]
     },
     "execution_count": 84,
     "metadata": {},
     "output_type": "execute_result"
    }
   ],
   "source": [
    "even = even_odd[even_odd != 'odd']\n",
    "even"
   ]
  },
  {
   "cell_type": "code",
   "execution_count": 85,
   "id": "4db22feb-605a-4d26-83d2-db3cedd46654",
   "metadata": {},
   "outputs": [
    {
     "data": {
      "text/plain": [
       "array(['odd', 'odd', 'odd', 'odd', 'odd', 'odd', 'odd', 'odd', 'odd',\n",
       "       'odd'], dtype='<U4')"
      ]
     },
     "execution_count": 85,
     "metadata": {},
     "output_type": "execute_result"
    }
   ],
   "source": [
    "odd = even_odd[even_odd != 'even']\n",
    "odd"
   ]
  },
  {
   "cell_type": "code",
   "execution_count": 88,
   "id": "e2fc9844-a251-4e46-8e8a-a720b3b728b8",
   "metadata": {},
   "outputs": [
    {
     "data": {
      "text/plain": [
       "array([ 0,  1,  0,  3,  0,  5,  0,  7,  0,  9,  0, 11,  0, 13,  0, 15,  0,\n",
       "       17,  0, 19])"
      ]
     },
     "execution_count": 88,
     "metadata": {},
     "output_type": "execute_result"
    }
   ],
   "source": [
    "my_array[even_odd != 'odd'] = 0\n",
    "my_array"
   ]
  },
  {
   "cell_type": "code",
   "execution_count": 90,
   "id": "2b39bd2c-04e3-4a1d-8509-e7ae9784de27",
   "metadata": {},
   "outputs": [
    {
     "data": {
      "text/plain": [
       "array(['even', 'odd', 'even', 'odd', 'even', 'odd', 'even', 'odd', 'even',\n",
       "       'odd', 'even', 'odd', 'even', 'odd', 'even', 'odd', 'even', 'odd',\n",
       "       'even', 'odd'], dtype='<U4')"
      ]
     },
     "execution_count": 90,
     "metadata": {},
     "output_type": "execute_result"
    }
   ],
   "source": [
    "np.where(my_array % 2 == 0, 'even', 'odd')"
   ]
  },
  {
   "cell_type": "code",
   "execution_count": 91,
   "id": "ec48744c-eb46-4d11-93ee-946f3f756753",
   "metadata": {},
   "outputs": [
    {
     "data": {
      "text/plain": [
       "array(['even', 'odd', 'even', 'odd', 'even', 'odd', 'even', 'odd', 'even',\n",
       "       '9', 'even', 'odd', 'even', 'odd', 'even', 'odd', 'even', 'odd',\n",
       "       'even', 'odd'], dtype='<U11')"
      ]
     },
     "execution_count": 91,
     "metadata": {},
     "output_type": "execute_result"
    }
   ],
   "source": [
    "np.where(my_array % 2 == 0, 'even', np.where(my_array == 9 , my_array, 'odd'))"
   ]
  },
  {
   "cell_type": "markdown",
   "id": "f2facef7-2b2f-44a9-9aef-2d816535b4fb",
   "metadata": {},
   "source": [
    "# Array Aggregation Function"
   ]
  },
  {
   "cell_type": "code",
   "execution_count": 94,
   "id": "0af4ec57-a8b5-45be-933d-daf1c8170b8f",
   "metadata": {},
   "outputs": [
    {
     "data": {
      "text/plain": [
       "(array([5.24, 8.02, 0.75, 1.51, 8.97, 6.63, 7.26, 7.66, 0.3 , 7.78]),\n",
       " array([39, 39, 93, 86, 48, 46, 48, 30, 11, 57], dtype=int64))"
      ]
     },
     "execution_count": 94,
     "metadata": {},
     "output_type": "execute_result"
    }
   ],
   "source": [
    "price, inventory"
   ]
  },
  {
   "cell_type": "code",
   "execution_count": 95,
   "id": "3dfc4999-c046-45c7-8965-84f083a2b822",
   "metadata": {},
   "outputs": [
    {
     "data": {
      "text/plain": [
       "49.7"
      ]
     },
     "execution_count": 95,
     "metadata": {},
     "output_type": "execute_result"
    }
   ],
   "source": [
    "inventory.mean()"
   ]
  },
  {
   "cell_type": "code",
   "execution_count": 96,
   "id": "23c63506-f94a-4ecb-8b4e-04592a1b2de6",
   "metadata": {},
   "outputs": [
    {
     "data": {
      "text/plain": [
       "497"
      ]
     },
     "execution_count": 96,
     "metadata": {},
     "output_type": "execute_result"
    }
   ],
   "source": [
    "inventory.sum()"
   ]
  },
  {
   "cell_type": "code",
   "execution_count": 97,
   "id": "a4a6f18d-fb22-48a7-83a4-b819be2b6088",
   "metadata": {},
   "outputs": [
    {
     "data": {
      "text/plain": [
       "(93, 11)"
      ]
     },
     "execution_count": 97,
     "metadata": {},
     "output_type": "execute_result"
    }
   ],
   "source": [
    "inventory.max(), inventory.min()"
   ]
  },
  {
   "cell_type": "code",
   "execution_count": 98,
   "id": "49ae963a-ee90-4f6f-8cc1-cb9ab6126e1e",
   "metadata": {},
   "outputs": [
    {
     "data": {
      "text/plain": [
       "23.195042573791497"
      ]
     },
     "execution_count": 98,
     "metadata": {},
     "output_type": "execute_result"
    }
   ],
   "source": [
    "inventory.std()"
   ]
  },
  {
   "cell_type": "code",
   "execution_count": 103,
   "id": "c4a7127e-826a-442a-aa05-895bd42b5913",
   "metadata": {},
   "outputs": [
    {
     "data": {
      "text/plain": [
       "(443.46000000000004, 3.3, 247.733, 9, 8)"
      ]
     },
     "execution_count": 103,
     "metadata": {},
     "output_type": "execute_result"
    }
   ],
   "source": [
    "(price*inventory).max(), (price*inventory).min(), (price*inventory).mean(), (price*inventory).argmax(), (price*inventory).argmin()"
   ]
  },
  {
   "cell_type": "code",
   "execution_count": 105,
   "id": "bdb84c56-e943-4e5f-ae46-03666b1537c5",
   "metadata": {},
   "outputs": [
    {
     "data": {
      "text/plain": [
       "array([[5.24, 8.02],\n",
       "       [0.75, 1.51],\n",
       "       [8.97, 6.63],\n",
       "       [7.26, 7.66],\n",
       "       [0.3 , 7.78]])"
      ]
     },
     "execution_count": 105,
     "metadata": {},
     "output_type": "execute_result"
    }
   ],
   "source": [
    "price_2d = price.reshape(5,2)\n",
    "price_2d"
   ]
  },
  {
   "cell_type": "code",
   "execution_count": 106,
   "id": "c92c7920-39dc-4920-a6b7-ee261e16767e",
   "metadata": {},
   "outputs": [
    {
     "data": {
      "text/plain": [
       "54.120000000000005"
      ]
     },
     "execution_count": 106,
     "metadata": {},
     "output_type": "execute_result"
    }
   ],
   "source": [
    "price_2d.sum()"
   ]
  },
  {
   "cell_type": "code",
   "execution_count": 117,
   "id": "85a7b9c2-ec5b-426e-ac20-9818241d1d91",
   "metadata": {},
   "outputs": [
    {
     "data": {
      "text/plain": [
       "(array([22.52, 31.6 ]),\n",
       " array([0.3 , 1.51]),\n",
       " array([4.504, 6.32 ]),\n",
       " array([2, 0], dtype=int64),\n",
       " array([4, 1], dtype=int64))"
      ]
     },
     "execution_count": 117,
     "metadata": {},
     "output_type": "execute_result"
    }
   ],
   "source": [
    "price_2d.sum(axis=0), price_2d.min(axis=0), price_2d.mean(axis=0), price_2d.argmax(axis=0), price_2d.argmin(axis=0)"
   ]
  },
  {
   "cell_type": "code",
   "execution_count": 116,
   "id": "61bfd1fa-ae48-4939-bdb1-76c05674c866",
   "metadata": {},
   "outputs": [
    {
     "data": {
      "text/plain": [
       "(array([13.26,  2.26, 15.6 , 14.92,  8.08]),\n",
       " array([5.24, 0.75, 6.63, 7.26, 0.3 ]),\n",
       " array([6.63, 1.13, 7.8 , 7.46, 4.04]),\n",
       " array([1, 1, 0, 1, 1], dtype=int64),\n",
       " array([0, 0, 1, 0, 0], dtype=int64))"
      ]
     },
     "execution_count": 116,
     "metadata": {},
     "output_type": "execute_result"
    }
   ],
   "source": [
    "price_2d.sum(axis=1), price_2d.min(axis=1), price_2d.mean(axis=1), price_2d.argmax(axis=1), price_2d.argmin(axis=1)"
   ]
  },
  {
   "cell_type": "code",
   "execution_count": 119,
   "id": "ad081abd-3e1d-4bb0-b12c-58c596bc0c43",
   "metadata": {},
   "outputs": [
    {
     "data": {
      "text/plain": [
       "array([204.36, 312.78,  69.75, 129.86, 430.56, 304.98, 348.48, 229.8 ,\n",
       "         3.3 , 443.46])"
      ]
     },
     "execution_count": 119,
     "metadata": {},
     "output_type": "execute_result"
    }
   ],
   "source": [
    "product_value = price * inventory\n",
    "product_value"
   ]
  },
  {
   "cell_type": "code",
   "execution_count": 125,
   "id": "95b310ae-868f-4cad-b384-43ce34acb787",
   "metadata": {},
   "outputs": [],
   "source": [
    "product_value.sort()"
   ]
  },
  {
   "cell_type": "code",
   "execution_count": 126,
   "id": "229fd0f8-eed0-4726-87df-2aee3fd9651f",
   "metadata": {},
   "outputs": [
    {
     "data": {
      "text/plain": [
       "array([[  3.3 ,  69.75, 129.86, 204.36, 229.8 ],\n",
       "       [304.98, 312.78, 348.48, 430.56, 443.46]])"
      ]
     },
     "execution_count": 126,
     "metadata": {},
     "output_type": "execute_result"
    }
   ],
   "source": [
    "reshape_p_v = product_value.reshape(2, 5)\n",
    "reshape_p_v"
   ]
  },
  {
   "cell_type": "code",
   "execution_count": 127,
   "id": "b42aae4b-cf8f-4809-a167-14c84d99b7b8",
   "metadata": {},
   "outputs": [
    {
     "data": {
      "text/plain": [
       "267.39"
      ]
     },
     "execution_count": 127,
     "metadata": {},
     "output_type": "execute_result"
    }
   ],
   "source": [
    "np.median(reshape_p_v)"
   ]
  },
  {
   "cell_type": "code",
   "execution_count": 128,
   "id": "e0649583-b57e-406a-90d9-d4f0dceb9d75",
   "metadata": {},
   "outputs": [
    {
     "data": {
      "text/plain": [
       "267.39"
      ]
     },
     "execution_count": 128,
     "metadata": {},
     "output_type": "execute_result"
    }
   ],
   "source": [
    "np.percentile(reshape_p_v, 50)"
   ]
  },
  {
   "cell_type": "code",
   "execution_count": 129,
   "id": "3cbdffad-95c0-46a8-8b0d-d792755585bc",
   "metadata": {},
   "outputs": [
    {
     "data": {
      "text/plain": [
       "array([[ 1.81659021,  8.35164654, 11.39561319, 14.29545382, 15.15915565],\n",
       "       [17.46367659, 17.68558735, 18.66761902, 20.74993976, 21.05848997]])"
      ]
     },
     "execution_count": 129,
     "metadata": {},
     "output_type": "execute_result"
    }
   ],
   "source": [
    "np.sqrt(reshape_p_v)"
   ]
  },
  {
   "cell_type": "code",
   "execution_count": 130,
   "id": "c79c338d-68f6-415b-817d-c5f6efa3d698",
   "metadata": {},
   "outputs": [
    {
     "data": {
      "text/plain": [
       "array([  3.3 ,  69.75, 129.86, 204.36, 229.8 , 304.98, 312.78, 348.48,\n",
       "       430.56, 443.46])"
      ]
     },
     "execution_count": 130,
     "metadata": {},
     "output_type": "execute_result"
    }
   ],
   "source": [
    "np.unique(reshape_p_v)"
   ]
  },
  {
   "cell_type": "code",
   "execution_count": 132,
   "id": "955ac485-269e-4984-bca9-15df9da85579",
   "metadata": {},
   "outputs": [
    {
     "data": {
      "text/plain": [
       "array([[  3.3 ,  69.75, 129.86, 204.36, 229.8 ],\n",
       "       [304.98, 312.78, 348.48, 430.56, 443.46]])"
      ]
     },
     "execution_count": 132,
     "metadata": {},
     "output_type": "execute_result"
    }
   ],
   "source": [
    "reshape_p_v"
   ]
  },
  {
   "cell_type": "code",
   "execution_count": 131,
   "id": "629610f3-3483-43cf-aa67-f3c78aa9f11c",
   "metadata": {},
   "outputs": [
    {
     "data": {
      "text/plain": [
       "array([[  3.3 ,  69.75, 129.86, 204.36, 229.8 ],\n",
       "       [304.98, 312.78, 348.48, 430.56, 443.46]])"
      ]
     },
     "execution_count": 131,
     "metadata": {},
     "output_type": "execute_result"
    }
   ],
   "source": [
    "np.sort(reshape_p_v)"
   ]
  }
 ],
 "metadata": {
  "kernelspec": {
   "display_name": "Python 3 (ipykernel)",
   "language": "python",
   "name": "python3"
  },
  "language_info": {
   "codemirror_mode": {
    "name": "ipython",
    "version": 3
   },
   "file_extension": ".py",
   "mimetype": "text/x-python",
   "name": "python",
   "nbconvert_exporter": "python",
   "pygments_lexer": "ipython3",
   "version": "3.11.4"
  }
 },
 "nbformat": 4,
 "nbformat_minor": 5
}
